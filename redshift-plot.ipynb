{
 "cells": [
  {
   "cell_type": "markdown",
   "metadata": {},
   "source": [
    "# Fazer um plot com o redshift e a idade de universo como eixos usando astropy.cosmology\n",
    "\n",
    "## Autores\n",
    "Neil Crighton, Stephanie T. Douglas\n",
    "\n",
    "## Tradução\n",
    "Vinicius Cordeiro\n",
    "\n",
    "## Objetivos\n",
    "* Plotar relações usando 'matplotlib'\n",
    "* Adicionar um segundo eixo em um plot do 'matplotlib'\n",
    "* Relacionar distância, redshift e idade para dois diferentes tipos de cosmologia usando 'astropy.cosmology'\n",
    "\n",
    "## Palavras-Chave\n",
    "unidades, física, cosmologia, matplotlib\n",
    "\n",
    "## Sumário\n",
    "\n",
    "Cada redshift corresponde a uma idade do universo, então quando se plota uma quantidade em função do redshift, o gráfico resultante pode ser usado também para indicar a idade do universo. A relação entre os dois depende do tipo de cosmologia que se está assumindo, e é nesse ponto que o 'astropy.cosmology' pode ser utilizado. Nesse tutorial nós vamos mostrar como usar as ferramentas no 'astropy.cosmology' para criar um plot desse tipo:"
   ]
  },
  {
   "cell_type": "code",
   "execution_count": null,
   "metadata": {},
   "outputs": [],
   "source": [
    "# Inicializar o matplotlib\n",
    "\n",
    "import matplotlib.pyplot as plt\n",
    "%matplotlib inline"
   ]
  },
  {
   "cell_type": "code",
   "execution_count": null,
   "metadata": {},
   "outputs": [],
   "source": [
    "from IPython.display import Image\n",
    "Image(filename=\"ang_dist.png\", width=500)"
   ]
  },
  {
   "cell_type": "markdown",
   "metadata": {},
   "source": [
    "Nós começamos com um objeto cosmologia (variável cosmo). Vamos criar uma cosmologia plana (o que significa que a densidade de curvatura $\\Omega_k=0$) com um parâmetro de Hubble igual a $70$ km/s/Mpc e uma densidade de matéria de $\\Omega_M=0.3$ para o redshift 0. A partir disso, a cosmologia `FlatLambdaCDM` calcula automaticamente que o valor da densidade de energia escura precisa ser $\\Omega_\\Lambda=0.7$, pois $\\Omega_M + \\Omega_\\Lambda + \\Omega_k = 1$."
   ]
  },
  {
   "cell_type": "code",
   "execution_count": null,
   "metadata": {},
   "outputs": [],
   "source": [
    "from astropy.cosmology import FlatLambdaCDM\n",
    "import astropy.units as u\n",
    "\n",
    "# Nesse caso nós só precisamos definir a densidade de matéria\n",
    "# e o parâmetro de hubble para z=0 (a função FlatLambdaCDM já\n",
    "# considera que omega_k=0)\n",
    "\n",
    "# Note que a a unidade padrão para o parâmetro de Hubble é\n",
    "# km/s/Mpc. Mesmo assim, vamos passar um objeto 'Quantidade' \n",
    "# com as unidades especificadas\n",
    "\n",
    "cosmo = FlatLambdaCDM(H0=70*u.km/u.s/u.Mpc, Om0=0.3)"
   ]
  },
  {
   "cell_type": "markdown",
   "metadata": {},
   "source": [
    "Note que nós poderíamos ter usado também uma das outras cosmologias inclusas no astropy.cosmology, como a 'WMAP9' ou a 'Planck13'.\n",
    "\n",
    "Agora, precisamos de uma certa quantidade para plotar em função do redshift. Vamos usar a distância do diâmetro angular, que é a distância física transversal (o tamanho de uma galáxia, por exemplo) correpondente a uma certa separação angular do céu. Para calcular a distância do diâmetro angular para um intervalo de redshifts:"
   ]
  },
  {
   "cell_type": "code",
   "execution_count": null,
   "metadata": {},
   "outputs": [],
   "source": [
    "import numpy as np\n",
    "zvals = np.arange(0, 6, 0.1)\n",
    "dist = cosmo.angular_diameter_distance(zvals)"
   ]
  },
  {
   "cell_type": "markdown",
   "metadata": {},
   "source": [
    "Note que nós passamos um array de redshifts para 'cosmo.angular_diameter_distances', e isso produziu um array de valores de distância, um para cada redshift. Vamos então plotá-los:"
   ]
  },
  {
   "cell_type": "code",
   "execution_count": null,
   "metadata": {},
   "outputs": [],
   "source": [
    "fig = plt.figure(figsize=(6,4))\n",
    "ax = fig.add_subplot(111)\n",
    "ax.plot(zvals, dist)"
   ]
  },
  {
   "cell_type": "markdown",
   "metadata": {},
   "source": [
    "Para checar a unidades da distância do diâmetro angular, olhamos o seu atributo unit:"
   ]
  },
  {
   "cell_type": "code",
   "execution_count": null,
   "metadata": {},
   "outputs": [],
   "source": [
    "dist.unit"
   ]
  },
  {
   "cell_type": "markdown",
   "metadata": {},
   "source": [
    "Vamos agora criar um array com algumas idades que irão aparecer no eixo superior do gráfico. Escolhemos uma série de valores de idade, correspondendo aos lugares onde queremos colocar os ticks. Talvez seja necessário que você ajuste os valores abaixo a depender do seu range de redshifts para conseguir ticks espaçados igualmente."
   ]
  },
  {
   "cell_type": "code",
   "execution_count": null,
   "metadata": {},
   "outputs": [],
   "source": [
    "ages = np.array([13, 10, 8, 6, 5, 4, 3, 2, 1.5, 1.2, 1])*u.Gyr"
   ]
  },
  {
   "cell_type": "markdown",
   "metadata": {},
   "source": [
    "Para linkar o eixo dos redshifts com o das idades, temos que encontrar o redshift correspondente a cada uma das idades do nosso array, e a função 'z_at_value' faz exatamente isso."
   ]
  },
  {
   "cell_type": "code",
   "execution_count": null,
   "metadata": {},
   "outputs": [],
   "source": [
    "from astropy.cosmology import z_at_value\n",
    "ageticks = [z_at_value(cosmo.age, age) for age in ages]"
   ]
  },
  {
   "cell_type": "markdown",
   "metadata": {},
   "source": [
    "Agora fazemos o segundo eixo, e definimos as posições dos seus ticks (usando '.set_xticks') usando o array ageticks."
   ]
  },
  {
   "cell_type": "code",
   "execution_count": null,
   "metadata": {},
   "outputs": [],
   "source": [
    "fig = plt.figure(figsize=(6,4))\n",
    "ax = fig.add_subplot(111)\n",
    "ax.plot(zvals, dist)\n",
    "ax2 = ax.twiny()\n",
    "ax2.set_xticks(ageticks)"
   ]
  },
  {
   "cell_type": "markdown",
   "metadata": {},
   "source": [
    "Agora já temos os ticks no eixo superior nas posições corretas, mas os valores de suas labels são os redshifts, e não as idades. Para corrigir isso, podemos definir suas labels manualmente."
   ]
  },
  {
   "cell_type": "code",
   "execution_count": null,
   "metadata": {},
   "outputs": [],
   "source": [
    "fig = plt.figure(figsize=(6,4))\n",
    "ax = fig.add_subplot(111)\n",
    "ax.plot(zvals, dist)\n",
    "ax2 = ax.twiny()\n",
    "ax2.set_xticks(ageticks)\n",
    "ax2.set_xticklabels(['{:g}'.format(age) for age in ages.value])"
   ]
  },
  {
   "cell_type": "markdown",
   "metadata": {},
   "source": [
    "Precisamos então garantir que os dois eixos tenham os mesmos limites de redshift. No plot acima eles podem não estar devidamente alinhados, a depender do seu setup (por exemplo, a idade do universo deve ser ~13 Gyr para z=0)."
   ]
  },
  {
   "cell_type": "code",
   "execution_count": null,
   "metadata": {},
   "outputs": [],
   "source": [
    "fig = plt.figure(figsize=(6,4))\n",
    "ax = fig.add_subplot(111)\n",
    "ax.plot(zvals, dist)\n",
    "ax2 = ax.twiny()\n",
    "ax2.set_xticks(ageticks)\n",
    "ax2.set_xticklabels(['{:g}'.format(age) for age in ages.value])\n",
    "zmin, zmax = 0.0, 5.9\n",
    "ax.set_xlim(zmin, zmax)\n",
    "ax2.set_xlim(zmin, zmax)"
   ]
  },
  {
   "cell_type": "markdown",
   "metadata": {},
   "source": [
    "Quase lá. Só precisamos agora adicionar os títulos dos eixos e os ticks menores. Vamos ajustar também os limites do eixo y para evitar que suas labels fiquem muito próximas do topo do plot."
   ]
  },
  {
   "cell_type": "code",
   "execution_count": null,
   "metadata": {},
   "outputs": [],
   "source": [
    "fig = plt.figure(figsize=(6,4))\n",
    "ax = fig.add_subplot(111)\n",
    "ax.plot(zvals, dist)\n",
    "ax2 = ax.twiny()\n",
    "ax2.set_xticks(ageticks)\n",
    "ax2.set_xticklabels(['{:g}'.format(age) for age in ages.value])\n",
    "zmin, zmax = 0, 5.9\n",
    "ax.set_xlim(zmin, zmax)\n",
    "ax2.set_xlim(zmin, zmax)\n",
    "ax2.set_xlabel('Time since Big Bang (Gyr)')\n",
    "ax.set_xlabel('Redshift')\n",
    "ax.set_ylabel('Angular diameter distance (Mpc)')\n",
    "ax.set_ylim(0, 1890)\n",
    "ax.minorticks_on()"
   ]
  },
  {
   "cell_type": "markdown",
   "metadata": {},
   "source": [
    "Para comparação, vamos adicionar a distância do diâmetro angular de uma cosmologia diferente, derivada dos resultados de 2013 do Planck. E finalmente, salvamos a figura em um arquivo png."
   ]
  },
  {
   "cell_type": "code",
   "execution_count": null,
   "metadata": {},
   "outputs": [],
   "source": [
    "from astropy.cosmology import Planck13\n",
    "dist2 = Planck13.angular_diameter_distance(zvals)\n",
    "\n",
    "fig = plt.figure(figsize=(6,4))\n",
    "ax = fig.add_subplot(111)\n",
    "ax.plot(zvals, dist2, label='Planck 2013')\n",
    "ax.plot(zvals, dist, label=\n",
    "        '$h=0.7,\\ \\Omega_M=0.3,\\ \\Omega_\\Lambda=0.7$')\n",
    "ax.legend(frameon=0, loc='lower right')\n",
    "ax2 = ax.twiny()\n",
    "ax2.set_xticks(ageticks)\n",
    "ax2.set_xticklabels(['{:g}'.format(age) for age in ages.value])\n",
    "zmin, zmax = 0.0, 5.9\n",
    "ax.set_xlim(zmin, zmax)\n",
    "ax2.set_xlim(zmin, zmax)\n",
    "ax2.set_xlabel('Time since Big Bang (Gyr)')\n",
    "ax.set_xlabel('Redshift')\n",
    "ax.set_ylabel('Angular diameter distance (Mpc)')\n",
    "ax.minorticks_on()\n",
    "ax.set_ylim(0, 1890)\n",
    "fig.savefig('ang_dist.png', dpi=200, bbox_inches='tight')"
   ]
  },
  {
   "cell_type": "markdown",
   "metadata": {},
   "source": [
    "`bbox_inches='tight'` remove automaticamente qualquer espaço em branco ao redor das margens do plot.\n",
    "\n",
    "E terminamos!"
   ]
  },
  {
   "cell_type": "markdown",
   "metadata": {},
   "source": [
    "## Exercício"
   ]
  },
  {
   "cell_type": "markdown",
   "metadata": {},
   "source": [
    "Bem, quase terminamos. Note que nós calculamos os tempos no eixo superior usando a cosmologia original, e não a nova cosmologia baseada nos resultados de 2013 do Planck. Por isso, tecnicamente o eixo superior só pode ser utilizado pela cosmologia original, apesar de a diferença entre as duas ser pequena. Como exercício, você pode tentar plotar dois eixos superiores diferentes (com uma pequena separação entre os dois), para demonstrar os tempos correspondentes a cada cosmologia. Dê uma olhada na primeira resposta [dessa pergunta no Stack Overflow](http://stackoverflow.com/questions/7733693/matplotlib-overlay-plots-with-different-scales) que tem algumas dicas de como fazer isso."
   ]
  },
  {
   "cell_type": "code",
   "execution_count": null,
   "metadata": {},
   "outputs": [],
   "source": []
  }
 ],
 "metadata": {
  "astropy-tutorials": {
   "author": "Neil Crighton <neilcrighton@gmail.com>",
   "date": "April 2015",
   "description": "Demonstrates how to make a plot with both redshift and universe age axes, using astropy.cosmology and matplotlib.",
   "link_name": "Making a plot with both redshift and universe age axes",
   "name": "Making a plot with both redshift and universe age axes",
   "published": true
  },
  "kernelspec": {
   "display_name": "astropy_tutorials",
   "language": "python",
   "name": "astropy_tutorials"
  },
  "language_info": {
   "codemirror_mode": {
    "name": "ipython",
    "version": 3
   },
   "file_extension": ".py",
   "mimetype": "text/x-python",
   "name": "python",
   "nbconvert_exporter": "python",
   "pygments_lexer": "ipython3",
   "version": "3.8.10"
  }
 },
 "nbformat": 4,
 "nbformat_minor": 4
}
