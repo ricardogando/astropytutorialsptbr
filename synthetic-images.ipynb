{
 "cells": [
  {
   "cell_type": "markdown",
   "metadata": {},
   "source": [
    "# Imagens Sintéticas dos dados Simulados\n",
    "\n",
    "## Autores\n",
    "Yi-Hao Chen, Sebastian Heinz, Kelle Cruz, Stephanie T. Douglas\n",
    "\n",
    "## Tradução\n",
    "Marcos Soares\n",
    "\n",
    "## Objetivos de aprendizado\n",
    "\n",
    "- Atribuir astrometria WCS para uma imagem usando ```astropy.wcs``` \n",
    "- Construir uma PSF usando ```astropy.modeling.model```\n",
    "- Convoluir  dados crus com PSF usando ```astropy.convolution```\n",
    "- Calcular a fração de polarização e ângulo a partir dos dados Stokes I, Q, U\n",
    "- Sobrepor flechas na imagem.\n",
    "\n",
    "## Palavras-Chave\n",
    "modelagem, convolução, coordenadas, WCS, FITS, astronomia de rádio, matplotlib, barra de cores\n",
    "\n",
    "## Sumário\n",
    "Nesse tutorial, iremos:\n",
    "\n",
    "[1. Carregar e examinar os arquivos FITS](#1.-Carregar-e-examinar-os-arquivos-FITS)\n",
    "\n",
    "[2. Configurar coordenadas de astrometria](#2.-Configurar-coordenadas-de-astrometria)\n",
    "\n",
    "[3. Preparar uma Point Spread Function (PSF)](#3.-Preparar-uma-Point-Spread-Function-(PSF))\n",
    "\n",
    ">[3. Como fazer isso sem kernels do astropy](#3.a-Como-fazer-isso-sem-kernels-do-astropy)\n",
    "\n",
    "[4. Convolver uma imagem com PSF](#4.-Convolver-uma-imagem-com-PSF)\n",
    "\n",
    "[5. Convolver imagens Stokes Q e U](#5.-Convolver-imagens-Stokes-Q-e-U)\n",
    "\n",
    "[6. Calcular ângulo e fração de polarização para plote de vetores](#6.-Calcular-ângulo-e-fração-de-polarização-para-plote-de-vetore)"
   ]
  },
  {
   "cell_type": "code",
   "execution_count": null,
   "metadata": {},
   "outputs": [],
   "source": [
    "from astropy.utils.data import download_file\n",
    "from astropy.io import fits\n",
    "from astropy import units as u\n",
    "from astropy.coordinates import SkyCoord\n",
    "from astropy.wcs import WCS\n",
    "\n",
    "from astropy.convolution import Gaussian2DKernel\n",
    "from astropy.modeling.models import Lorentz1D\n",
    "from astropy.convolution import convolve_fft\n",
    "\n",
    "import matplotlib.pyplot as plt\n",
    "import numpy as np\n",
    "\n",
    "%matplotlib inline"
   ]
  },
  {
   "cell_type": "markdown",
   "metadata": {},
   "source": [
    "## 1. Carregar e examinar arquivos FITS\n",
    "\n",
    "Aqui nós iniciamos com dados de duas dimensões(2D) que foi armazenado em formato FITS a partir de simulações. Temos mapas Stokes I, Q, e U. Iremos primeiramente carregar um arquivo FITS e examinar o cabeçalho."
   ]
  },
  {
   "cell_type": "code",
   "execution_count": null,
   "metadata": {},
   "outputs": [],
   "source": [
    "file_i = download_file(\n",
    "    'http://data.astropy.org/tutorials/synthetic-images/synchrotron_i_lobe_0700_150MHz_sm.fits', \n",
    "    cache=True)\n",
    "hdulist = fits.open(file_i)\n",
    "hdulist.info()\n",
    "\n",
    "hdu = hdulist['NN_EMISSIVITY_I_LOBE_150.0MHZ']\n",
    "hdu.header"
   ]
  },
  {
   "cell_type": "markdown",
   "metadata": {},
   "source": [
    "Podemos ver esse arquivo FITS, que foi criado em [yt](https://yt-project.org/), tem coordenadas x e y em unidades físicas (cm). E queremos converter em coordenadas celestes. Antes de proceder, vamos encontrar o intervalo de dados e plotar um histograma. "
   ]
  },
  {
   "cell_type": "code",
   "execution_count": null,
   "metadata": {},
   "outputs": [],
   "source": [
    "print(hdu.data.max())\n",
    "print(hdu.data.min())\n",
    "np.seterr(divide='ignore') #Suprimir os alertas levantados através dos log10 dos dados com zeros\n",
    "plt.hist(np.log10(hdu.data.flatten()), range=(-3, 2), bins=100);"
   ]
  },
  {
   "cell_type": "markdown",
   "metadata": {},
   "source": [
    "Uma vez que saibamos o intervalo dos dados, podemos fazer uma vizualização com o intervalo apropriado (```vmin``` and ```vmax```)."
   ]
  },
  {
   "cell_type": "code",
   "execution_count": null,
   "metadata": {},
   "outputs": [],
   "source": [
    "fig = plt.figure(figsize=(6,12))\n",
    "fig.add_subplot(111)\n",
    "\n",
    "# Plotamos numa escala logarítmica e com números pequenos para evitar valores nan. \n",
    "plt.imshow(np.log10(hdu.data+1E-3), vmin=-1, vmax=1, origin='lower')"
   ]
  },
  {
   "cell_type": "markdown",
   "metadata": {},
   "source": [
    "## 2. Configurar coordenadas de astrometria\n",
    "\n",
    "A partir do cabeçalho, sabemos que os eixos x e y são em centímetros. Contudo, numa observação temos usualmente a Ascenção Reta (RA) e a Declinação(Dec). Para converter unidades físicas para coordenadas celestes, precisaremos supor onde o objeto está localizado, i.e. a distância ao objeto e a RA e Dec central. "
   ]
  },
  {
   "cell_type": "code",
   "execution_count": null,
   "metadata": {},
   "outputs": [],
   "source": [
    "# Distância ao objeto\n",
    "dist_obj = 200*u.Mpc\n",
    "\n",
    "# Temos então os formatos respectivos RA em hh:mm:ss e DEC em dd:mm:ss. \n",
    "# Iremos usar o Skycoord para converter elas em graus posteriormente.\n",
    "ra_obj = '19h59m28.3566s'\n",
    "dec_obj = '+40d44m02.096s'"
   ]
  },
  {
   "cell_type": "markdown",
   "metadata": {},
   "source": [
    "Aqui convertemos a escala de pixel de cm para grau dividindo a distância ao objeto."
   ]
  },
  {
   "cell_type": "code",
   "execution_count": null,
   "metadata": {},
   "outputs": [],
   "source": [
    "cdelt1 = ((hdu.header['CDELT1']*u.cm/dist_obj.to('cm'))*u.rad).to('deg')\n",
    "cdelt2 = ((hdu.header['CDELT2']*u.cm/dist_obj.to('cm'))*u.rad).to('deg')\n",
    "print(cdelt1, cdelt2)"
   ]
  },
  {
   "cell_type": "markdown",
   "metadata": {},
   "source": [
    "Use ```astropy.wcs.WCS``` para preparar o cabeçalho FITS."
   ]
  },
  {
   "cell_type": "code",
   "execution_count": null,
   "metadata": {},
   "outputs": [],
   "source": [
    "w = WCS(naxis=2)\n",
    "\n",
    "# Coordenada de pixel de referência\n",
    "w.wcs.crpix = [hdu.data.shape[0]/2,hdu.data.shape[1]/2]\n",
    "\n",
    "# Tamanhos dos pixels em graus\n",
    "w.wcs.cdelt = [-cdelt1.base, cdelt2.base]\n",
    "\n",
    "# Convertendo ra e dec em graus\n",
    "c = SkyCoord(ra_obj, dec_obj)\n",
    "w.wcs.crval = [c.ra.deg, c.dec.deg]\n",
    "\n",
    "# As unidades dos eixos são em graus\n",
    "w.wcs.cunit = ['deg', 'deg']"
   ]
  },
  {
   "cell_type": "markdown",
   "metadata": {},
   "source": [
    "Agora podemos converter as coordenadas WCS no cabeçalho e atualizar o hdu com o update."
   ]
  },
  {
   "cell_type": "code",
   "execution_count": null,
   "metadata": {},
   "outputs": [],
   "source": [
    "wcs_header = w.to_header()\n",
    "hdu.header.update(wcs_header)"
   ]
  },
  {
   "cell_type": "markdown",
   "metadata": {},
   "source": [
    "Vamos dar uma olhada no cabeçalho. ```CDELT1```, ```CDELT2```, ```CUNIT1```, ```CUNIT2```, ```CRVAL1```, e ```CRVAL2``` são em coordenadas celestes agora."
   ]
  },
  {
   "cell_type": "code",
   "execution_count": null,
   "metadata": {},
   "outputs": [],
   "source": [
    "hdu.header"
   ]
  },
  {
   "cell_type": "code",
   "execution_count": null,
   "metadata": {},
   "outputs": [],
   "source": [
    "wcs = WCS(hdu.header)\n",
    "\n",
    "fig = plt.figure(figsize=(6,12))\n",
    "fig.add_subplot(111, projection=wcs)\n",
    "plt.imshow(np.log10(hdu.data+1e-3), vmin=-1, vmax=1, origin='lower')\n",
    "plt.xlabel('RA')\n",
    "plt.ylabel('Dec')"
   ]
  },
  {
   "cell_type": "markdown",
   "metadata": {},
   "source": [
    "Agora temos as coordenadas celestes para a imagem!"
   ]
  },
  {
   "cell_type": "markdown",
   "metadata": {},
   "source": [
    "## 3. Preparar uma Point Spread Function (PSF)"
   ]
  },
  {
   "cell_type": "markdown",
   "metadata": {},
   "source": [
    "Simples PSFs são incluídas em ```astropy.convolution.kernel```. Aqui usaremos ```astropy.convolution.Gaussian2DKernel```.\n",
    "Primeiro precisamos configurar a resolução do telescópio. Para uma Gaussiana 2D, podemos calcular sigma em  pixels usando nossa palavra chave da escala de pixel  ```cdelt2``` que está acima."
   ]
  },
  {
   "cell_type": "code",
   "execution_count": null,
   "metadata": {},
   "outputs": [],
   "source": [
    "# Assuma que nosso telescópio tem uma resolução de 1 arcsecond\n",
    "telescope_resolution = 1*u.arcsecond\n",
    "\n",
    "# Calcule o sigma em pixels. \n",
    "# Desde que cdelt está em graus, podemos usar _.to('deg')\n",
    "sigma = telescope_resolution.to('deg')/cdelt2"
   ]
  },
  {
   "cell_type": "code",
   "execution_count": null,
   "metadata": {},
   "outputs": [],
   "source": [
    "# Por padrão, o kernel Gaussiano irá para 4 sigma \n",
    "# em cada direção\n",
    "psf = Gaussian2DKernel(sigma)\n",
    "\n",
    "# Vamos dar uma olhada:\n",
    "plt.imshow(psf.array.value)"
   ]
  },
  {
   "cell_type": "markdown",
   "metadata": {},
   "source": [
    "## 3.a Como fazer isso sem kernels do astropy"
   ]
  },
  {
   "cell_type": "markdown",
   "metadata": {},
   "source": [
    "Talvez seu PSF é mais complicado. Aqui está um jeito alternativo para isso, usando um Lorentziana 2D."
   ]
  },
  {
   "cell_type": "code",
   "execution_count": null,
   "metadata": {},
   "outputs": [],
   "source": [
    "# Configure a grade FWHM e psf \n",
    "telescope_resolution = 1*u.arcsecond\n",
    "gamma = telescope_resolution.to('deg')/cdelt2\n",
    "x_grid = np.outer(np.linspace(-gamma*4,gamma*4,int(8*gamma)),np.ones(int(8*gamma)))\n",
    "r_grid = np.sqrt(x_grid**2 + np.transpose(x_grid**2))\n",
    "lorentzian = Lorentz1D(fwhm=2*gamma)\n",
    "\n",
    "# Expulse uma PSF simétrica azimutalmente.\n",
    "lorentzian_psf = lorentzian(r_grid)\n",
    "\n",
    "# Normalização\n",
    "lorentzian_psf /= np.sum(lorentzian_psf)\n",
    "\n",
    "# Vamos dar uma olhada de novo:\n",
    "plt.imshow(lorentzian_psf.value, interpolation='none')"
   ]
  },
  {
   "cell_type": "markdown",
   "metadata": {},
   "source": [
    "## 4. Convolver uma imagem com PSF"
   ]
  },
  {
   "cell_type": "markdown",
   "metadata": {},
   "source": [
    "Aqui usamos ```astropy.convolution.convolve_fft``` para convolver imagens. Essa rotina usa transformada de fourier para cálculos mais rápidos. Especialmente se nossos dados têm tamanho $2^n$, o que os torna particularmente rápidos. Usando um fft, contudo, causa efeitos de contorno. Iremos então precisar especificar como queremos lidar com as bordas. Aqui escolhemos \"embrulhar\" os dados. O que significa torná-los periódicos."
   ]
  },
  {
   "cell_type": "code",
   "execution_count": null,
   "metadata": {},
   "outputs": [],
   "source": [
    "convolved_image = convolve_fft(hdu.data, psf, boundary='wrap') "
   ]
  },
  {
   "cell_type": "code",
   "execution_count": null,
   "metadata": {},
   "outputs": [],
   "source": [
    "#Ponha uma psf no canto da imagem\n",
    "delta_x_psf=100 # Número de pixels das arestas \n",
    "xmin, xmax = -psf.shape[1]-delta_x_psf, -delta_x_psf\n",
    "ymin, ymax = delta_x_psf, delta_x_psf+psf.shape[0]\n",
    "convolved_image[xmin:xmax, ymin:ymax] = psf.array/psf.array.max()*10"
   ]
  },
  {
   "cell_type": "markdown",
   "metadata": {},
   "source": [
    "Agora dê uma olhada na imagem convolvida."
   ]
  },
  {
   "cell_type": "code",
   "execution_count": null,
   "metadata": {},
   "outputs": [],
   "source": [
    "wcs = WCS(hdu.header)\n",
    "fig = plt.figure(figsize=(8,12))\n",
    "i_plot = fig.add_subplot(111, projection=wcs)\n",
    "plt.imshow(np.log10(convolved_image+1e-3), vmin=-1, vmax=1.0, origin='lower')#, cmap=plt.cm.viridis)\n",
    "plt.xlabel('RA')\n",
    "plt.ylabel('Dec')\n",
    "plt.colorbar()"
   ]
  },
  {
   "cell_type": "markdown",
   "metadata": {},
   "source": [
    "## 5. Convolver imagens Stokes Q e U"
   ]
  },
  {
   "cell_type": "code",
   "execution_count": null,
   "metadata": {},
   "outputs": [],
   "source": [
    "hdulist.info()"
   ]
  },
  {
   "cell_type": "code",
   "execution_count": null,
   "metadata": {},
   "outputs": [],
   "source": [
    "file_q = download_file(\n",
    "    'http://data.astropy.org/tutorials/synthetic-images/synchrotron_q_lobe_0700_150MHz_sm.fits', \n",
    "    cache=True)\n",
    "hdulist = fits.open(file_q)\n",
    "hdu_q = hdulist['NN_EMISSIVITY_Q_LOBE_150.0MHZ']\n",
    "\n",
    "file_u = download_file(\n",
    "    'http://data.astropy.org/tutorials/synthetic-images/synchrotron_u_lobe_0700_150MHz_sm.fits', \n",
    "    cache=True)\n",
    "hdulist = fits.open(file_u)\n",
    "hdu_u = hdulist['NN_EMISSIVITY_U_LOBE_150.0MHZ']\n",
    "\n",
    "# Atualize o cabeçalho com o wcs_header que criamos anteriormente\n",
    "hdu_q.header.update(wcs_header)\n",
    "hdu_u.header.update(wcs_header)\n",
    "\n",
    "# Convolver as imagens com a psf\n",
    "convolved_image_q = convolve_fft(hdu_q.data, psf, boundary='wrap')\n",
    "convolved_image_u = convolve_fft(hdu_u.data, psf, boundary='wrap')"
   ]
  },
  {
   "cell_type": "markdown",
   "metadata": {},
   "source": [
    "Agora vamos plotar as imagens Q e U"
   ]
  },
  {
   "cell_type": "code",
   "execution_count": null,
   "metadata": {},
   "outputs": [],
   "source": [
    "wcs = WCS(hdu.header)\n",
    "fig = plt.figure(figsize=(16,12))\n",
    "fig.add_subplot(121, projection=wcs)\n",
    "plt.imshow(convolved_image_q, cmap='seismic', vmin=-0.5, vmax=0.5, origin='lower')#, cmap=plt.cm.viridis)\n",
    "plt.xlabel('RA')\n",
    "plt.ylabel('Dec')\n",
    "plt.colorbar()\n",
    "\n",
    "fig.add_subplot(122, projection=wcs)\n",
    "plt.imshow(convolved_image_u, cmap='seismic', vmin=-0.5, vmax=0.5, origin='lower')#, cmap=plt.cm.viridis)\n",
    "\n",
    "plt.xlabel('RA')\n",
    "plt.ylabel('Dec')\n",
    "plt.colorbar()"
   ]
  },
  {
   "cell_type": "markdown",
   "metadata": {},
   "source": [
    "## 6. Calcular ângulo e fração de polarização para plote de vetores"
   ]
  },
  {
   "cell_type": "markdown",
   "metadata": {},
   "source": [
    "Note que rotacionando mapas Stokes Q e I requer sinais de mudanças de ambos. Assumimos aqui que os mapas Q e U foram calculados definindo o eixo y/declinação como vertical, tal que Q seja positivo para vetores de polarização ao longo do eixo x/ascenção reta."
   ]
  },
  {
   "cell_type": "code",
   "execution_count": null,
   "metadata": {},
   "outputs": [],
   "source": [
    "# Primeiro, plotamos o plano de fundo da imagem\n",
    "fig = plt.figure(figsize=(8,16))\n",
    "i_plot = fig.add_subplot(111, projection=wcs)\n",
    "i_plot.imshow(np.log10(convolved_image+1e-3), vmin=-1, vmax=1, origin='lower')\n",
    "\n",
    "# Intervalos dos eixos\n",
    "xx0, xx1 = i_plot.get_xlim()\n",
    "yy0, yy1 = i_plot.get_ylim()\n",
    "\n",
    "# Fator de bin\n",
    "factor = [64, 66]\n",
    "\n",
    "# número de pontos em cada eixo rebinados \n",
    "nx_new = convolved_image.shape[1] // factor[0]\n",
    "ny_new = convolved_image.shape[0] // factor[1]\n",
    "\n",
    "# Essas são as posições dos vetores\n",
    "X,Y = np.meshgrid(np.linspace(xx0,xx1,nx_new,endpoint=True),\n",
    "                  np.linspace(yy0,yy1,ny_new,endpoint=True))\n",
    "\n",
    "# binar os dados \n",
    "I_bin = convolved_image.reshape(nx_new, factor[0], ny_new, factor[1]).sum(3).sum(1)\n",
    "Q_bin = convolved_image_q.reshape(nx_new, factor[0], ny_new, factor[1]).sum(3).sum(1)\n",
    "U_bin = convolved_image_u.reshape(nx_new, factor[0], ny_new, factor[1]).sum(3).sum(1)\n",
    "\n",
    "# ângulo de polarização\n",
    "psi = 0.5*np.arctan2(U_bin, Q_bin)\n",
    "\n",
    "# fração de polarização\n",
    "frac = np.sqrt(Q_bin**2+U_bin**2)/I_bin\n",
    "\n",
    "# máscara para área de sinal baixo\n",
    "mask = I_bin < 0.1\n",
    "\n",
    "frac[mask] = 0\n",
    "psi[mask] = 0\n",
    "\n",
    "pixX = frac*np.cos(psi) # Vetor-X \n",
    "pixY = frac*np.sin(psi) # Vetor-Y\n",
    "\n",
    "# argumentos palavra-chave para plote de vetores\n",
    "quiveropts = dict(headlength=0, headwidth=1, pivot='middle')\n",
    "i_plot.quiver(X, Y, pixX, pixY, scale=8, **quiveropts)"
   ]
  },
  {
   "cell_type": "markdown",
   "metadata": {},
   "source": [
    "## Exercício"
   ]
  },
  {
   "cell_type": "markdown",
   "metadata": {},
   "source": [
    "### Converter  as unidades dos dados de Jy/arcsec^2 para Jy/beam"
   ]
  },
  {
   "cell_type": "markdown",
   "metadata": {},
   "source": [
    "A intensidade dos dados é dada em unidades de Jy/arcsec^2. Dados observasionais têm usualmente a unidade de intensidade em Jy/beam. Assumindo um tamanho beam ou pegando a psf que criamos anteriormente, você pode converter os dados em Jy/beam."
   ]
  },
  {
   "cell_type": "code",
   "execution_count": null,
   "metadata": {},
   "outputs": [],
   "source": []
  }
 ],
 "metadata": {
  "kernelspec": {
   "display_name": "Python 3 (ipykernel)",
   "language": "python",
   "name": "python3"
  },
  "language_info": {
   "codemirror_mode": {
    "name": "ipython",
    "version": 3
   },
   "file_extension": ".py",
   "mimetype": "text/x-python",
   "name": "python",
   "nbconvert_exporter": "python",
   "pygments_lexer": "ipython3",
   "version": "3.8.8"
  }
 },
 "nbformat": 4,
 "nbformat_minor": 2
}
