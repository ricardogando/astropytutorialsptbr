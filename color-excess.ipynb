{
  "nbformat": 4,
  "nbformat_minor": 0,
  "metadata": {
    "colab": {
      "name": "color-excess.ipynb",
      "provenance": [],
      "collapsed_sections": []
    },
    "kernelspec": {
      "display_name": "Python 3",
      "language": "python",
      "name": "python3"
    },
    "language_info": {
      "codemirror_mode": {
        "name": "ipython",
        "version": 3
      },
      "file_extension": ".py",
      "mimetype": "text/x-python",
      "name": "python",
      "nbconvert_exporter": "python",
      "pygments_lexer": "ipython3",
      "version": "3.6.7"
    }
  },
  "cells": [
    {
      "cell_type": "markdown",
      "metadata": {
        "id": "5fGL2VYp13Vi"
      },
      "source": [
        "# Analizando o avermelhamento interestelar e calculando fotometria sintética"
      ]
    },
    {
      "cell_type": "markdown",
      "metadata": {
        "id": "6UzIN7ds1-G1"
      },
      "source": [
        "## Autores\n",
        "\n",
        "Kristen Larson, Lia Corrales, Stephanie T. Douglas, Kelle Cruz\n",
        "\n",
        "Input from Emir Karamehmetoglu, Pey Lian Lim, Karl Gordon, Kevin Covey"
      ]
    },
    {
      "cell_type": "markdown",
      "source": [
        "## Tradução\n",
        "\n",
        "Chrystian Luciano Pereira\n"
      ],
      "metadata": {
        "id": "ai225ji3ZD0h"
      }
    },
    {
      "cell_type": "markdown",
      "metadata": {
        "id": "Btb9Da5P4nLr"
      },
      "source": [
        "## Objetivos de Aprendizagem\n",
        "- Investigar a forma das curvas de extinção\n",
        "\n",
        "- Deredden spectral energy distributions and spectra\n",
        "- Calcular a extinção fotométrica e o avermelhamento\n",
        "- Calcular a fotometria sintética para uma estrela avermelhada combinando `dust_extinction` e` synphot`\n",
        "- Converter de frequência para comprimento de onda com equivalências do `astropy.unit`\n",
        "- Plotagem com o `astropy.visualization`\n",
        "\n",
        "\n",
        "## Palavras-chave\n",
        "dust extinction, synphot, astroquery, units, fotometria, extinção, física, astronomia observacional\n",
        "\n",
        "## Conteúdo complementar\n",
        "\n",
        "* [Bessell & Murphy (2012)](https://ui.adsabs.harvard.edu/#abs/2012PASP..124..140B/abstract)\n",
        "\n",
        "\n",
        "\n",
        "## Sumário\n",
        "\n",
        "Nesse tutorial, veremos algumas curvas de extinção da literatura, usaremos uma dessas curvas para desavermelhar um espectro observado e praticaremos usando o fluxo de uma fonte de fundo para calcular as magnitudes de um modelo de extinção.\n",
        "\n",
        "As principais bibliotecas que usaremos aqui [dust_extinction](https://dust-extinction.readthedocs.io/en/latest/) e [synphot](https://synphot.readthedocs.io/en/latest/), que são [pacotes afiliados ao Astropy](https://www.astropy.org/affiliated/). \n",
        "\n",
        "Recomendamos instalar os dois pacotes desta maneira:\n",
        "```\n",
        "pip install synphot\n",
        "pip install dust_extinction\n",
        "```\n",
        "\n",
        "Esse tutorial necessita da versão v0.7 ou posterior da `dust_extinction`. Para garantir que todos os comandos funcionem corretamente, certifique-se de ter a versão correta instalada. Se você tiver a v0.6 ou anterior instalada, execute o seguinte comando para atualizar\n",
        "```\n",
        "pip install dust_extinction --upgrade\n",
        "```"
      ]
    },
    {
      "cell_type": "code",
      "source": [
        "import matplotlib.pyplot as plt\n",
        "%matplotlib inline\n",
        "\n",
        "import numpy as np\n",
        "import astropy.units as u\n",
        "from astropy.table import Table\n",
        "from dust_extinction.parameter_averages import CCM89, F99\n",
        "from synphot import units, config\n",
        "from synphot import SourceSpectrum,SpectralElement,Observation,ExtinctionModel1D\n",
        "from synphot.models import BlackBodyNorm1D\n",
        "from synphot.spectrum import BaseUnitlessSpectrum\n",
        "from synphot.reddening import ExtinctionCurve\n",
        "from astroquery.simbad import Simbad\n",
        "from astroquery.mast import Observations\n",
        "import astropy.visualization"
      ],
      "metadata": {
        "id": "qE9IWzcc46G6"
      },
      "execution_count": null,
      "outputs": []
    },
    {
      "cell_type": "markdown",
      "metadata": {
        "id": "ssir1UjtD_Wn"
      },
      "source": [
        "# Introdução"
      ]
    },
    {
      "cell_type": "markdown",
      "metadata": {
        "id": "1rvwpEs946ju"
      },
      "source": [
        "A poeira no meio interestelar (ISM) reduz a luz das estrelas de fundo. A dependência da extinção com comprimento de onda é tal que a luz de comprimento de onda curto se extingue mais do que a luz de comprimento de onda longo. Chamamos esse efeito de *avermelhamento*.\n",
        "\n",
        "Se você é novo na extinção, aqui está uma breve introdução aos tipos de quantidades envolvidas.\n",
        "A mudança fracionária no fluxo da luz das estrelas é\n",
        "$$\n",
        "\\frac{dF_\\lambda}{F_\\lambda} = -\\tau_\\lambda\n",
        "$$\n",
        "\n",
        "onde $\\tau$ é a profundidade ótica e depende do comprimento de onda. Integrando ao longo da linha de visada, o fluxo resultante é uma função exponencial da profundidade ótica\n",
        "\n",
        "$$\n",
        "\\tau_\\lambda = -\\ln\\left(\\frac{F_\\lambda}{F_{\\lambda,0}}\\right).\n",
        "$$\n",
        "\n",
        "Para saber como definimos as magnitudes, geralmente mudamos a base de $e$ para 10,  \n",
        "$$\n",
        "\\tau_\\lambda = -2.303\\log\\left(\\frac{F_\\lambda}{F_{\\lambda,0}}\\right),\n",
        "$$\n",
        "\n",
        "e definir uma extinção $A_\\lambda = 1.086 \\,\\tau_\\lambda$ de modo que\n",
        "$$\n",
        "A_\\lambda = -2.5\\log\\left(\\frac{F_\\lambda}{F_{\\lambda,0}}\\right).\n",
        "$$\n",
        "\n",
        "\n",
        "Existem duas mensagens básicas para levar para casa nesta derivação:\n",
        "\n",
        "* A extinção introduz um fator de multiplicação $10^{-0.4 A_\\lambda}$ ao fluxo;\n",
        "* A extinção é definida em relação ao fluxo sem poeira, $F_{\\lambda,0}$.\n"
      ]
    },
    {
      "cell_type": "markdown",
      "metadata": {
        "id": "K9gwBSy_R_2E"
      },
      "source": [
        "Assim que o astropy e os pacotes afiliados forem instalados, podemos importá-los conforme necessário:"
      ]
    },
    {
      "cell_type": "markdown",
      "metadata": {
        "id": "NYgj1w2X7gXc"
      },
      "source": [
        "# Exemplo 1: Investigando os modelos de Extinção"
      ]
    },
    {
      "cell_type": "markdown",
      "metadata": {
        "id": "ifscJWwyEZtS"
      },
      "source": [
        "O pacote `dust_extinction` fornece vários modelos para extinção $ A_\\lambda$ normalizado para $A_V$. As formas das curvas normalizadas são relativamente (e talvez surpreendentemente) uniformes na Via Láctea. A pequena variação que existe é frequentemente parametrizada pela razão de extinção ($A_V$) para avermelhamento no azul-visual ($E_{B-V}$), \n",
        "\n",
        "$$\n",
        "R_V \\equiv \\frac{A_V}{E_{B-V}}\n",
        "$$\n",
        "\n",
        "onde $ E_{B-V} $ é a extinção diferencial $A_B-A_V$. Neste exemplo, mostramos a parametrização $ R_V $ para os modelos Clayton, Cardelli, & Mathis (1989, CCM) e Fitzpatrick (1999). [Mais opções de modelo estão disponíveis na documentação `dust_extinction`.](https://dust-extinction.readthedocs.io/en/latest/dust_extinction/model_flavors.html)"
      ]
    },
    {
      "cell_type": "code",
      "metadata": {
        "id": "b1uhXbRl79FR"
      },
      "source": [
        "# Criando uma matriz de comprimentos de onda\n",
        "wav = np.arange(0.1, 3.0, 0.001)*u.micron\n",
        "\n",
        "for model in [CCM89, F99]:\n",
        "    for R in (2.0,3.0,4.0):\n",
        "        # Inicializando o modelo de extinção\n",
        "        ext = model(Rv=R)\n",
        "        plt.plot(1/wav, ext(wav), label=model.name+' R='+str(R))\n",
        "        \n",
        "plt.xlabel('$\\lambda^{-1}$ ($\\mu$m$^{-1}$)')\n",
        "plt.ylabel('A($\\lambda$) / A(V)')\n",
        "plt.legend(loc='best')\n",
        "plt.title('Algumas Leis de Extinção')\n",
        "plt.show()"
      ],
      "execution_count": null,
      "outputs": []
    },
    {
      "cell_type": "markdown",
      "metadata": {
        "id": "d-1XRyovX028"
      },
      "source": [
        "Os astrônomos que estudam o meio interestelar frequentemente exibem curvas de extinção em função do inverso do comprimento de onda (número de onda) para mostrar a variação ultravioleta, como fazemos aqui. A extinção do infravermelho varia muito menos e se aproxima de zero no comprimento de onda longo na ausência de extinção independente do comprimento de onda."
      ]
    },
    {
      "cell_type": "markdown",
      "metadata": {
        "id": "TMEWEKJf-iSL"
      },
      "source": [
        "# Exemplo 2: Desavermelhando um Espectro"
      ]
    },
    {
      "cell_type": "markdown",
      "metadata": {
        "id": "zTeDJ-dI1cQj"
      },
      "source": [
        "Aqui nós desavermelhamos (desextinguímos) o espectro ultravioleta IUE e a fotometria óptica da estrela $\\rho$ Oph (HD 147933).\n",
        "\n",
        "Primeiro, usaremos astroquery para buscar o arquivo [espectro IUE do MAST](https://archive.stsci.edu/iue/):"
      ]
    },
    {
      "cell_type": "code",
      "metadata": {
        "id": "Zdwr_mdZcDeh"
      },
      "source": [
        "obsTable = Observations.query_object(\"HD 147933\",radius=\"1 arcsec\")\n",
        "obsTable_spec=obsTable[obsTable['dataproduct_type']=='spectrum']\n",
        "obsTable_spec.pprint()\n",
        "\n",
        "obsids = obsTable_spec[39]['obsid']\n",
        "dataProductsByID = Observations.get_product_list(obsids)\n",
        "manifest = Observations.download_products(dataProductsByID)"
      ],
      "execution_count": null,
      "outputs": []
    },
    {
      "cell_type": "markdown",
      "metadata": {
        "id": "MevN670kcI4B"
      },
      "source": [
        "Lemos os arquivos baixados em uma tabela astropy:"
      ]
    },
    {
      "cell_type": "code",
      "metadata": {
        "id": "THilzBfVcDb-"
      },
      "source": [
        "t_lwr = Table.read('./mastDownload/IUE/lwr05639/lwr05639mxlo_vo.fits')\n",
        "print(t_lwr)"
      ],
      "execution_count": null,
      "outputs": []
    },
    {
      "cell_type": "markdown",
      "metadata": {
        "id": "IiQ9u8QJcKtC"
      },
      "source": [
        "A extensão `.quantity` nas próximas linhas irá ler as colunas da tabela em vetores de quantidade. Quantidades mantêm as unidades da coluna Tabela anexadas aos valores da matriz numpy."
      ]
    },
    {
      "cell_type": "code",
      "metadata": {
        "id": "P54jimyWcDZa"
      },
      "source": [
        "wav_UV = t_lwr['WAVE'][0,].quantity\n",
        "UVflux = t_lwr['FLUX'][0,].quantity"
      ],
      "execution_count": null,
      "outputs": []
    },
    {
      "cell_type": "markdown",
      "metadata": {
        "id": "WCIgXzhdcUn7"
      },
      "source": [
        "\n",
        "Agora, usamos astroquery novamente para buscar a fotometria no Simbad para ir com o espectro IUE:"
      ]
    },
    {
      "cell_type": "code",
      "metadata": {
        "id": "lYPVhZrXcDWw"
      },
      "source": [
        "custom_query = Simbad()\n",
        "custom_query.add_votable_fields('fluxdata(U)','fluxdata(B)','fluxdata(V)')\n",
        "phot_table=custom_query.query_object('HD 147933')\n",
        "Umag=phot_table['FLUX_U']\n",
        "Bmag=phot_table['FLUX_B']\n",
        "Vmag=phot_table['FLUX_V']"
      ],
      "execution_count": null,
      "outputs": []
    },
    {
      "cell_type": "markdown",
      "metadata": {
        "id": "OAxOt2AwcVfF"
      },
      "source": [
        "Para converter a fotometria em fluxo, procuramos algumas [propriedades das bandas passantes fotométricas](http://ned.ipac.caltech.edu/help/photoband.lst), incluindo o fluxo de uma estrela de magnitude zero através de cada banda passante , também conhecido como ponto zero da banda passante."
      ]
    },
    {
      "cell_type": "code",
      "metadata": {
        "id": "cKMXywyCcDUU"
      },
      "source": [
        "wav_U = 0.3660 * u.micron \n",
        "zeroflux_U_nu = 1.81E-23 * u.Watt/(u.m*u.m*u.Hz)\n",
        "wav_B = 0.4400 * u.micron\n",
        "zeroflux_B_nu = 4.26E-23 * u.Watt/(u.m*u.m*u.Hz)\n",
        "wav_V = 0.5530 * u.micron\n",
        "zeroflux_V_nu = 3.64E-23 * u.Watt/(u.m*u.m*u.Hz)"
      ],
      "execution_count": null,
      "outputs": []
    },
    {
      "cell_type": "markdown",
      "metadata": {
        "id": "3cFcAlSOcjht"
      },
      "source": [
        "Os pontos zero que encontramos para as bandas ópticas não estão nas mesmas unidades que os fluxos IUE. Para piorar as coisas, os fluxos de ponto zero são $F_\\nu$ e os fluxos IUE são $F_\\lambda$. Para converter entre eles, o comprimento de onda é necessário. Felizmente, o astropy fornece uma maneira fácil de fazer a conversão com *equivalências*: "
      ]
    },
    {
      "cell_type": "code",
      "metadata": {
        "id": "pOFMtrNAcDRa"
      },
      "source": [
        "zeroflux_U = zeroflux_U_nu.to(u.erg/u.AA/u.cm/u.cm/u.s, \n",
        "                              equivalencies=u.spectral_density(wav_U))\n",
        "zeroflux_B = zeroflux_B_nu.to(u.erg/u.AA/u.cm/u.cm/u.s, \n",
        "                              equivalencies=u.spectral_density(wav_B))\n",
        "zeroflux_V = zeroflux_V_nu.to(u.erg/u.AA/u.cm/u.cm/u.s, \n",
        "                              equivalencies=u.spectral_density(wav_V))"
      ],
      "execution_count": null,
      "outputs": []
    },
    {
      "cell_type": "markdown",
      "metadata": {
        "id": "7XlrfQtjctNG"
      },
      "source": [
        "Agora podemos converter de fotometria para fluxo usando a definição de magnitude:\n",
        "\n",
        "$$\n",
        "F=F_0\\ 10^{-0.4\\, m}\n",
        "$$"
      ]
    },
    {
      "cell_type": "code",
      "metadata": {
        "id": "p_DaxRzjcDOZ"
      },
      "source": [
        "Uflux = zeroflux_U * 10.**(-0.4*Umag)\n",
        "Bflux = zeroflux_B * 10.**(-0.4*Bmag)\n",
        "Vflux = zeroflux_V * 10.**(-0.4*Vmag)"
      ],
      "execution_count": null,
      "outputs": []
    },
    {
      "cell_type": "markdown",
      "metadata": {
        "id": "ODhSujFjc0hM"
      },
      "source": [
        "O uso dos vetores de quantidade do astropy nos permite tirar vantagem do astropy unit para os plots. [Chamar `astropy.visualization.quantity_support` explicitamente ativa o recurso.](Http://docs.astropy.org/en/stable/units/quantity.html#plotting-quantities)\n",
        "\n",
        "Então, quando os objetos *quantity* são passados para as funções de plot do matplotlib, os rótulos dos eixos são automaticamente identificados com a unidade da quantidade. Além disso, as quantidades são convertidas automaticamente para as mesmas unidades ao combinar vários gráficos nos mesmos eixos.\n"
      ]
    },
    {
      "cell_type": "code",
      "metadata": {
        "id": "x31EhibTcDFg"
      },
      "source": [
        "astropy.visualization.quantity_support()\n",
        "\n",
        "plt.plot(wav_UV,UVflux,'m',label='UV')\n",
        "plt.plot(wav_V,Vflux,'ko',label='U, B, V')\n",
        "plt.plot(wav_B,Bflux,'ko')\n",
        "plt.plot(wav_U,Uflux,'ko')\n",
        "plt.legend(loc='best')\n",
        "plt.ylim(0,3E-10)\n",
        "plt.title('rho Oph')\n",
        "plt.show()"
      ],
      "execution_count": null,
      "outputs": []
    },
    {
      "cell_type": "markdown",
      "metadata": {
        "id": "vCfk0D87dDE8"
      },
      "source": [
        "Por fim, inicializamos o modelo de extinção, escolhendo os valores $ R_V = 5 $ e $ E_ {B-V} = 0,5 $. Esta estrela é famosa na comunidade por apresentar extinção e avermelhamento acentuados, devido a poeira e gás na linha de visada."
      ]
    },
    {
      "cell_type": "code",
      "metadata": {
        "id": "wdp5ERuqcC8_"
      },
      "source": [
        "Rv = 5.0  # Geralmente próximo a 3, mas cerca de 5 para essa estrela.\n",
        "Ebv = 0.5\n",
        "ext = F99(Rv=Rv)"
      ],
      "execution_count": null,
      "outputs": []
    },
    {
      "cell_type": "markdown",
      "metadata": {
        "id": "cpN5n_MIdv26"
      },
      "source": [
        "Para extinguir (avermelhar) um espectro, multiplique pela função `ext.extinguish`. Para anular a extinção (desavermelhar), divida pelo mesmo `ext.extinguish`, como fazemos aqui:"
      ]
    },
    {
      "cell_type": "code",
      "metadata": {
        "id": "DyxkYpdxdvfc"
      },
      "source": [
        "plt.semilogy(wav_UV,UVflux,'m',label='UV')\n",
        "plt.semilogy(wav_V,Vflux,'ko',label='U, B, V')\n",
        "plt.semilogy(wav_B,Bflux,'ko')\n",
        "plt.semilogy(wav_U,Uflux,'ko')\n",
        "\n",
        "plt.semilogy(wav_UV,UVflux/ext.extinguish(wav_UV,Ebv=Ebv),'b',\n",
        "             label='dereddened: EBV=0.5, RV=5')\n",
        "plt.semilogy(wav_V,Vflux/ext.extinguish(wav_V,Ebv=Ebv),'ro',\n",
        "             label='dereddened: EBV=0.5, RV=5')\n",
        "plt.semilogy(wav_B,Bflux/ext.extinguish(wav_B,Ebv=Ebv),'ro')\n",
        "plt.semilogy(wav_U,Uflux/ext.extinguish(wav_U,Ebv=Ebv),'ro')\n",
        "\n",
        "plt.legend(loc='best')\n",
        "plt.title('rho Oph')\n",
        "plt.show()"
      ],
      "execution_count": null,
      "outputs": []
    },
    {
      "cell_type": "markdown",
      "metadata": {
        "id": "L-yuz7YfFMxm"
      },
      "source": [
        "Observe que, ao diminuir o espectro, a característica de absorção em 2175 Angstrons é removida. Essa característica também pode ser vista como uma saliência proeminente nas curvas de extinção no Exemplo 1. O fato de termos removido suavemente a característica em 2175 Angstrons sugere que os valores que escolhemos, $R_V = 5$ e $E_{BV} = 0,5$, são um modelo razoável para a poeira do primeiro plano.\n",
        "\n",
        "Os mais experientes com desavermelhamento devem notar que `dust_extinction` retorna $A_\\lambda/A_V$, enquanto outras rotinas como o procedimento IDL fm_unred geralmente retornam $A_\\lambda/E_ {BV}$ por padrão e precisam ser divididos por $R_V$ para permitir a comparação direta com `dust_extinction`.\n",
        "\n"
      ]
    },
    {
      "cell_type": "markdown",
      "metadata": {
        "id": "WqtsQTZbp9nz"
      },
      "source": [
        "# Exemplo 3: Cálculo do excesso de cor com o `synphot`"
      ]
    },
    {
      "cell_type": "markdown",
      "metadata": {
        "id": "WwsM9_56FVYr"
      },
      "source": [
        "Calcular a extinção *fotométrica* de banda larga é mais difícil que pode parecer à primeira vista. Basta procurar $A_\\lambda$ para uma banda passante específica? Nas condições certas, sim. Mas em geral, não.\n",
        "\n",
        "Lembre-se que temos que integrar sobre uma banda passante para obter uma fotometria sintética,\n",
        "\n",
        "$$\n",
        "A = -2.5\\log\\left(\\frac{\\int W_\\lambda F_{\\lambda,0} 10^{-0.4A_\\lambda} d\\lambda}{\\int W_\\lambda F_{\\lambda,0} d\\lambda} \\right),\n",
        "$$\n",
        "\n",
        "onde $W_\\lambda$ é a fração da energia incidente que é transmitida através de um filtro. Ver o apêndice [Bessell & Murphy (2012)](https://ui.adsabs.harvard.edu/#abs/2012PASP..124..140B/abstract) para uma exelente revisão dos problemas e mal-entendidos comuns em fotometria sintética.\n",
        "\n",
        "Um importante apontamento aqui, é  que a expressão acima não pode ser simplificada. A rigor, é impossível converter a extinção espectral $A_\\lambda$ em um sistema de magnitudes sem conhecer a dependência do comprimento de onda do fluxo original da fonte  através do filtro em questão.\n",
        "\n",
        "Um caso especial é assumir que o fluxo da fonte é contante na banda (ou seja, $F_\\lambda = F$), então podemos cancelar esses fatores das integrais, e a extinção em magnitudes torna-se a média ponderada do fator de extinção em todo o filtro em questão. Nesse caso especial, $ A_\\lambda$ em $\\lambda_{\\ rm eff}$ é uma boa aproximação para a extinção de magnitude.\n",
        "\n",
        "Neste exemplo, vamos demonstrar o cálculo mais geral da extinção fotométrica. Usamos uma curva do corpo negro para o fluxo antes da poeira, aplicamos uma curva de extinção e realizamos a fotometria sintética para calcular a extinção e o avermelhamento em um sistema de magnitude.\n"
      ]
    },
    {
      "cell_type": "markdown",
      "metadata": {
        "id": "avGGI5fVX2wV"
      },
      "source": [
        "Primeiro, vamos obter as curvas de transmissão do filtro:"
      ]
    },
    {
      "cell_type": "code",
      "metadata": {
        "id": "wO-wwoOnp2B3"
      },
      "source": [
        "# Opcional, para quando o servidor de ftp STScI não estiver respondendo:\n",
        "config.conf.vega_file='http://ssb.stsci.edu/cdbs/calspec/alpha_lyr_stis_008.fits'\n",
        "config.conf.johnson_u_file='http://ssb.stsci.edu/cdbs/comp/nonhst/johnson_u_004_syn.fits'\n",
        "config.conf.johnson_b_file='http://ssb.stsci.edu/cdbs/comp/nonhst/johnson_b_004_syn.fits'\n",
        "config.conf.johnson_v_file='http://ssb.stsci.edu/cdbs/comp/nonhst/johnson_v_004_syn.fits'\n",
        "config.conf.johnson_r_file='http://ssb.stsci.edu/cdbs/comp/nonhst/johnson_r_003_syn.fits'\n",
        "config.conf.johnson_i_file='http://ssb.stsci.edu/cdbs/comp/nonhst/johnson_i_003_syn.fits'\n",
        "config.conf.bessel_j_file='http://ssb.stsci.edu/cdbs/comp/nonhst/bessell_j_003_syn.fits'\n",
        "config.conf.bessel_h_file='http://ssb.stsci.edu/cdbs/comp/nonhst/bessell_h_004_syn.fits'\n",
        "config.conf.bessel_k_file='http://ssb.stsci.edu/cdbs/comp/nonhst/bessell_k_003_syn.fits'\n",
        "\n",
        "u_band = SpectralElement.from_filter('johnson_u')\n",
        "b_band = SpectralElement.from_filter('johnson_b')\n",
        "v_band = SpectralElement.from_filter('johnson_v')\n",
        "r_band = SpectralElement.from_filter('johnson_r')\n",
        "i_band = SpectralElement.from_filter('johnson_i')\n",
        "j_band = SpectralElement.from_filter('bessel_j')\n",
        "h_band = SpectralElement.from_filter('bessel_h')\n",
        "k_band = SpectralElement.from_filter('bessel_k')"
      ],
      "execution_count": null,
      "outputs": []
    },
    {
      "cell_type": "markdown",
      "metadata": {
        "id": "hekvrcEGpvYd"
      },
      "source": [
        "Se você estiver executando isso com seu próprio python, consulte a [documentação do synphot](https://synphot.readthedocs.io/en/latest/#installation-and-setup) sobre como instalar sua própria cópia dos arquivos necessários.\n",
        "\n"
      ]
    },
    {
      "cell_type": "markdown",
      "metadata": {
        "id": "vQTSrYpvJeaY"
      },
      "source": [
        "A seguir, vamos fazer um fluxo de fundo ao qual aplicaremos a extinção. Aqui, fazemos um corpo negro de 10.000 K usando o mecanismo de modelo de dentro de `synphot` e normalizamos para $V$ = 10 no sistema de magnitude baseado em Vega."
      ]
    },
    {
      "cell_type": "code",
      "metadata": {
        "id": "NuPS0Ij2ncC0"
      },
      "source": [
        "# Primeiro, crie um corpo negro a determinada temperatura.\n",
        "sp = SourceSpectrum(BlackBodyNorm1D, temperature=10000)\n",
        "# sp.plot(left=1, right=15000, flux_unit='flam', title='Blackbody')\n",
        "\n",
        "# Obtenha o espectro de Vega como o fluxo do ponto zero.\n",
        "vega = SourceSpectrum.from_vega()\n",
        "# vega.plot(left=1, right=15000)\n",
        "\n",
        "# Normalize o corpo negro para alguma magnitude escolhida, digamos V = 10.\n",
        "vmag = 10.\n",
        "v_band = SpectralElement.from_filter('johnson_v')\n",
        "sp_norm = sp.normalize(vmag * units.VEGAMAG, v_band, vegaspec=vega)\n",
        "sp_norm.plot(left=1, right=15000, flux_unit='flam', title='Normed Blackbody')"
      ],
      "execution_count": null,
      "outputs": []
    },
    {
      "cell_type": "markdown",
      "metadata": {
        "id": "H4jYc_F8CiHi"
      },
      "source": [
        "Agora inicializamos o modelo de extinção e escolhemos uma extinção de $A_V$ = 2. Para obter o modelo `dust_extinction` trabalhando com o `synphot`, criamos uma matriz de comprimento de onda e fazemos um elemento espectral com o modelo de extinção como uma tabela de consulta.\n"
      ]
    },
    {
      "cell_type": "code",
      "metadata": {
        "id": "9H4VHd0VCCBG"
      },
      "source": [
        "# Inicialize o modelo de extinção e escolha a extinção, aqui Av = 2.\n",
        "ext = CCM89(Rv=3.1)\n",
        "Av = 2.\n",
        "\n",
        "# Crie a matriz de comprimento de onda. \n",
        "wav = np.arange(0.1, 3, 0.001)*u.micron\n",
        "\n",
        "# Faça um modelo de extinção no synphot usando uma 'lookup table'.\n",
        "ex = ExtinctionCurve(ExtinctionModel1D, \n",
        "                     points=wav, lookup_table=ext.extinguish(wav, Av=Av))\n",
        "sp_ext = sp_norm*ex\n",
        "sp_ext.plot(left=1, right=15000, flux_unit='flam',\n",
        "            title='Normed Blackbody with Extinction')"
      ],
      "execution_count": null,
      "outputs": []
    },
    {
      "cell_type": "markdown",
      "metadata": {
        "id": "h0dxfniFF-Bf"
      },
      "source": [
        "Fotometria sintética refere-se à modelagem de uma observação de uma estrela multiplicando o modelo teórico para o fluxo astronômico por meio de uma determinada função de resposta de filtro e, em seguida, integrando."
      ]
    },
    {
      "cell_type": "code",
      "metadata": {
        "id": "_1m5IFT4E2v_"
      },
      "source": [
        "# \"Observe\" a estrela através do filtro e integre-a para obter a magnitude fotométrica.\n",
        "sp_obs = Observation(sp_ext, v_band)\n",
        "sp_obs_before = Observation(sp_norm, v_band)\n",
        "# sp_obs.plot(left=1, right=15000, flux_unit='flam',\n",
        "#             title='Normed Blackbody with Extinction through V Filter')"
      ],
      "execution_count": null,
      "outputs": []
    },
    {
      "cell_type": "markdown",
      "metadata": {
        "id": "vFtJs0PhGLzx"
      },
      "source": [
        "Em seguida, `synphot` realiza a integração e calcula as magnitudes no sistema Vega."
      ]
    },
    {
      "cell_type": "code",
      "metadata": {
        "id": "ycvVHlOGCRur"
      },
      "source": [
        "sp_stim_before = sp_obs_before.effstim(flux_unit='vegamag', vegaspec=vega)\n",
        "sp_stim = sp_obs.effstim(flux_unit='vegamag', vegaspec=vega)\n",
        "print('before dust, V =', np.round(sp_stim_before,1))\n",
        "print('after dust, V =', np.round(sp_stim,1))\n",
        "\n",
        "# Calculate extinction and compare to our chosen value.\n",
        "Av_calc = sp_stim - sp_stim_before\n",
        "print('$A_V$ = ', np.round(Av_calc,1))"
      ],
      "execution_count": null,
      "outputs": []
    },
    {
      "cell_type": "markdown",
      "metadata": {
        "id": "asE7JUPuHddK"
      },
      "source": [
        "Esta é uma boa verificação para fazermos. Normalizamos nosso espectro para $ V $ = 10 mag e adicionamos 2 mag de extinção visual, então o procedimento de fotometria sintética deve reproduzir esses valores escolhidos, e o faz. Agora estamos prontos para encontrar a extinção em outras bandas."
      ]
    },
    {
      "cell_type": "markdown",
      "metadata": {
        "id": "woWiGJKwGI2v"
      },
      "source": [
        "Calculamos a nova fotometria para os filtros Johnson e Bessell (infravermelho). Calculamos a extinção $A = \\Delta m $ e o excesso de cor do gráfico, $ E (\\lambda - V) = A_ \\lambda - A_V $.\n",
        "\n",
        "Observe que `synphot` calcula o comprimento de onda efetivo das observações para nós, o que é muito útil para traçar os resultados. Mostramos o avermelhamento com a curva de extinção do modelo para comparação no gráfico."
      ]
    },
    {
      "cell_type": "code",
      "metadata": {
        "id": "0PMDsoC68w4b"
      },
      "source": [
        "bands = [u_band,b_band,v_band,r_band,i_band,j_band,h_band,k_band]\n",
        "\n",
        "for band in bands:\n",
        "    # Calcule a fotometria com a poeira:\n",
        "    sp_obs = Observation(sp_ext, band, force='extrap')\n",
        "    obs_effstim = sp_obs.effstim(flux_unit='vegamag', vegaspec=vega)\n",
        "    # Calcule a fotometria sem a poeira:\n",
        "    sp_obs_i = Observation(sp_norm, band, force='extrap')\n",
        "    obs_i_effstim = sp_obs_i.effstim(flux_unit='vegamag', vegaspec=vega)\n",
        "  \n",
        "    # Extinction = mag with dust - mag without dust\n",
        "    # Color excess = extinction at lambda - extinction at V\n",
        "    color_excess = obs_effstim - obs_i_effstim - Av_calc\n",
        "    plt.plot(sp_obs_i.effective_wavelength(), color_excess,'or')\n",
        "    print(np.round(sp_obs_i.effective_wavelength(),1), ',', \n",
        "          np.round(color_excess,2))\n",
        "\n",
        "# Plote a curva do modelo de extinção para comparação \n",
        "plt.plot(wav,Av*ext(wav)-Av,'--k')\n",
        "plt.ylim([-2,2])\n",
        "plt.xlabel('$\\lambda$ (Angstrom)')\n",
        "plt.ylabel('E($\\lambda$-V)')\n",
        "plt.title('Reddening of T=10,000K Background Source with Av=2')\n",
        "plt.show()  "
      ],
      "execution_count": null,
      "outputs": []
    },
    {
      "cell_type": "markdown",
      "metadata": {
        "id": "9B4gdXzn8LtA"
      },
      "source": [
        "## Exercício\n",
        "Tente alterar a temperatura do corpo negro para algo muito quente ou muito frio. Os valores de excesso de cor são iguais? Os comprimentos de onda efetivos mudaram?\n",
        "\n",
        "Observe que a extinção fotométrica muda porque a transmissão do filtro não é uniforme. A taxa de transferência observada do filtro depende da forma do fluxo da fonte de fundo."
      ]
    },
    {
      "cell_type": "code",
      "metadata": {
        "id": "F8ngm7OttA6D"
      },
      "source": [
        ""
      ],
      "execution_count": null,
      "outputs": []
    }
  ]
}
