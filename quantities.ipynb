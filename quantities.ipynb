{
  "cells": [
    {
      "cell_type": "markdown",
      "metadata": {
        "id": "view-in-github",
        "colab_type": "text"
      },
      "source": [
        "<a href=\"https://colab.research.google.com/github/taticorrea/astropytutorialsptbr/blob/main/quantities.ipynb\" target=\"_parent\"><img src=\"https://colab.research.google.com/assets/colab-badge.svg\" alt=\"Open In Colab\"/></a>"
      ]
    },
    {
      "cell_type": "markdown",
      "metadata": {
        "id": "kDh488lXPRNW"
      },
      "source": [
        "# Usando Astropy Quantities e Units para cálculos astrofísicos\n",
        "\n",
        "## Autores\n",
        "Ana Bonaca, Erik Tollerud, Jonathan Foster, Lia Corrales, Kris Stern, Stephanie T. Douglas\n",
        "\n",
        "## Tradução\n",
        "Tatiane Corrêa\n",
        "\n",
        "\n",
        "## Metas de aprendizagem\n",
        "* Usar objetos do tipo `Quantity` para estimar a massa de uma galáxia hipotética\n",
        "* Tirar proveito das constantes usando a bibioteca `astropy.constants`\n",
        "* Imprimir unidades em formato de strings\n",
        "* Fazer gráficos de objetos do tipo `Quantity` com rótulos de unidades, utilizando `astropy.visualization.quantity_support`\n",
        "* Fazer operações matemáticas com objetos do tipo `Quantity`\n",
        "* Converter quantidades com `astropy.units`\n",
        "* Conversão entre comprimento de onda e energia com equivalências `astropy.units.spectral`\n",
        "* Usar aproximação de pequenos ângulos com `astropy.units.dimensionless_angles` equivalências\n",
        "* Escrever funções aplicáveis à objetos do tipo `Quantity` ao invés de arrays da biblioteca numpy\n",
        "* Criar radio observações sintéticas \n",
        "* Usar objetos do tipo `Quantity`, como cubos de dados, para facilitar a derivação completa da massa total de uma nuvem molecular\n",
        "\n",
        "## Palravas-chave\n",
        "unidades, radio astronomia, cubo de dados, matplotlib\n",
        "\n",
        "## Conteúdo Complementar\n",
        "[Ferramentas para Radio Astronomia](https://www.springer.com/gp/book/9783662053942) por Rohlfs & Wilson\n",
        "\n",
        "## Sumário\n",
        "\n",
        "Nesse tutorial, iremos apresentar alguns exemplos para mostrar como o objeto `Quantity` do módulo Astropy pode tornar cálculos astrofísicos mais simples.\n",
        "Os exemplos incluem: cálculo da massa de uma galáxia a partir da dispersão de velocidades e a determinação da massa de nuvens moleculares a partir do mapeamento da intensidade das linhas de CO. Fecharemos com um exemplo de boas práticas, que é o uso de `quantities` em funções que eventualmente você poderá distribuir para outras pessoas.\n",
        "<br>\n",
        "Para uma discussão mais detalhada a respeito dos objetos `Quantity`, veja a [seção de documentação do Astropy](http://docs.astropy.org/en/stable/units/quantity.html)."
      ]
    },
    {
      "cell_type": "markdown",
      "metadata": {
        "id": "8q7597xXPRNe"
      },
      "source": [
        "## Preliminares"
      ]
    },
    {
      "cell_type": "markdown",
      "metadata": {
        "id": "BRoP2zKfPRNe"
      },
      "source": [
        "Vamos começar carregando as bibliotecas padrão e configurando os gráficos para os notebooks ipython "
      ]
    },
    {
      "cell_type": "code",
      "execution_count": 1,
      "metadata": {
        "id": "9BEsxvKmPRNf"
      },
      "outputs": [],
      "source": [
        "import numpy as np\n",
        "import matplotlib.pyplot as plt\n",
        "\n",
        "# Você não deve utilizar a função seed() em um código de ciência real, mas iremos usar aqui para fins didáticos.\n",
        "#A função seed() faz com que o gerador de números aleatórios sempre gere os mesmos números, onde quer que você execute.\n",
        "np.random.seed(12345)\n",
        "\n",
        "# Configuração do matplotlib\n",
        "import matplotlib.pyplot as plt\n",
        "%matplotlib inline"
      ]
    },
    {
      "cell_type": "markdown",
      "metadata": {
        "id": "9R1OgvqiPRNh"
      },
      "source": [
        "É conveniente carregar o módulo `units` do Astropy como a variável `u`, como é mostrado abaixo. Isso irá tornar o trabalho com objetos do tipo `Quantity` muito mais fácil.<br>\n",
        "<br>\n",
        "Astropy também possui o módulo`constants`, onde constantes físicas típicas estão disponíveis. As constantes são armazenadas como objetos de uma subclasse `Quantity`, então se comportam como objetos `Quantity`. Aqui, precisaremos apenas da constante gravitacional `G`, da constande de Planck `h` e da constante de Boltzman `k_B`."
      ]
    },
    {
      "cell_type": "code",
      "execution_count": 2,
      "metadata": {
        "id": "MOLFUoF_PRNi"
      },
      "outputs": [],
      "source": [
        "import astropy.units as u\n",
        "from astropy.constants import G, h, k_B"
      ]
    },
    {
      "cell_type": "markdown",
      "metadata": {
        "id": "J5Fmm9aOPRNj"
      },
      "source": [
        "Também mostraremos um exemplo de gráfico utilizando o pacote `astropy.visualization`, que provê suporte para unidades de objetos do tipo `Quantity`"
      ]
    },
    {
      "cell_type": "code",
      "execution_count": 3,
      "metadata": {
        "id": "sWSY06upPRNl"
      },
      "outputs": [],
      "source": [
        "from astropy.visualization import quantity_support"
      ]
    },
    {
      "cell_type": "markdown",
      "metadata": {
        "id": "wKKBtiA_PRNm"
      },
      "source": [
        "## 1. Massa galáctica"
      ]
    },
    {
      "cell_type": "markdown",
      "metadata": {
        "id": "N0U1K6gGPRNn"
      },
      "source": [
        "Neste primeiro exemplo, iremos utilizar objetos do tipo `Quantity` para estimar a massa de uma galáxia hipotética, dados seu raio de meia-luz e velocidades radiais das estrelas na galáxia."
      ]
    },
    {
      "cell_type": "markdown",
      "metadata": {
        "id": "T2oUoqzrPRNo"
      },
      "source": [
        "Vamos assumir que nós medimos o raio de meia-luz da galáxia como sendo 29 pc projetado no céu à uma distância da galáxia. Esse raio é comumumente chamado de \"raio efetivo\", então iremos armazená-lo em um objeto do tipo `Quantity` com o nome `Reff`. A forma mais fácil de criar um objeto do tipo `Quantity` é multiplicando seu valor por uma unidade. Unidades podem ser acessadas usando u.\"unit\", nesse caso u.pc."
      ]
    },
    {
      "cell_type": "code",
      "execution_count": 4,
      "metadata": {
        "id": "MuyFmGUDPRNp"
      },
      "outputs": [],
      "source": [
        "Reff = 29 * u.pc"
      ]
    },
    {
      "cell_type": "markdown",
      "metadata": {
        "id": "rw3S1C1UPRNp"
      },
      "source": [
        "Uma forma completamente equivalente (mas mais verbosa) de fazer a mesma coisa é usar o inicializador de objetos do tipo `Quantity`, demonstrado abaixo. Em geral, prefira utilizar a forma simples (acima), pois está mais próxima de como a quantidade é realmente escrita no texto. A forma com o inicializador possui mais opções, as quais você pode aprender sobre com a [documentação de referência do Astropy sobre objetos do tipo `Quantity`](http://docs.astropy.org/en/stable/api/astropy.units.quantity.Quantity.html)."
      ]
    },
    {
      "cell_type": "code",
      "execution_count": 5,
      "metadata": {
        "id": "7kD-1FDCPRNq"
      },
      "outputs": [],
      "source": [
        "Reff = u.Quantity(29, unit=u.pc)"
      ]
    },
    {
      "cell_type": "markdown",
      "metadata": {
        "id": "EvU8rSgtPRNq"
      },
      "source": [
        "Podemos acessar os valores e unidades de um objeto do tipo `Quantity` utilizando os atributos `value` e `unit`."
      ]
    },
    {
      "cell_type": "code",
      "execution_count": 6,
      "metadata": {
        "id": "UWJKEAwTPRNr",
        "outputId": "c32fd17b-2c22-404c-e66c-3b729e0ceeeb",
        "colab": {
          "base_uri": "https://localhost:8080/"
        }
      },
      "outputs": [
        {
          "output_type": "stream",
          "name": "stdout",
          "text": [
            "Raio de meia-luz\n",
            "valor: 29.0\n",
            "unidade: pc\n"
          ]
        }
      ],
      "source": [
        "print(\"\"\"Raio de meia-luz\n",
        "valor: {0}\n",
        "unidade: {1}\"\"\".format(Reff.value, Reff.unit))"
      ]
    },
    {
      "cell_type": "markdown",
      "metadata": {
        "id": "fxylon5CPRNs"
      },
      "source": [
        "Os atributos `value` e `unit` também podem ser acessados com a função print()."
      ]
    },
    {
      "cell_type": "code",
      "execution_count": 7,
      "metadata": {
        "id": "fD5UBVtzPRNs",
        "outputId": "4cbfc123-e6b5-4e71-87a0-e84265b97cb4",
        "colab": {
          "base_uri": "https://localhost:8080/"
        }
      },
      "outputs": [
        {
          "output_type": "stream",
          "name": "stdout",
          "text": [
            " Raio de meia-luz\n",
            "valor: 29.0\n",
            "unidade: pc\n"
          ]
        }
      ],
      "source": [
        "print(\"\"\" Raio de meia-luz\n",
        "valor: {0.value}\n",
        "unidade: {0.unit}\"\"\".format(Reff))"
      ]
    },
    {
      "cell_type": "markdown",
      "metadata": {
        "id": "5BhHOq-CPRNs"
      },
      "source": [
        "Além disso, podemos converter o raio em parsecs para qualquer outra unidade de comprimento utilizando o método ``to()``. Aqui vamos converter para metros."
      ]
    },
    {
      "cell_type": "code",
      "execution_count": 48,
      "metadata": {
        "id": "SwDrj4JrPRNt",
        "outputId": "73ed53ea-3577-4c4b-9211-c7bdf4be5485",
        "colab": {
          "base_uri": "https://localhost:8080/"
        }
      },
      "outputs": [
        {
          "output_type": "stream",
          "name": "stdout",
          "text": [
            "8.95e+17 m\n"
          ]
        }
      ],
      "source": [
        "print(\"{0:.3g}\".format(Reff.to(u.m)))"
      ]
    },
    {
      "cell_type": "markdown",
      "metadata": {
        "id": "wshBGpfaPRNt"
      },
      "source": [
        "Para esse próximo exemplo, iremos primeiro criar um conjunto de dados de medidas de velocidades radiais, assumindo uma distribuição normal com uma velocidade média de 206 km/s e uma dispersão de 4.3 km/s."
      ]
    },
    {
      "cell_type": "code",
      "execution_count": 9,
      "metadata": {
        "id": "luF5XnGrPRNt"
      },
      "outputs": [],
      "source": [
        "vmean = 206\n",
        "sigin = 4.3\n",
        "v = np.random.normal(vmean, sigin, 500)*u.km/u.s"
      ]
    },
    {
      "cell_type": "code",
      "execution_count": 10,
      "metadata": {
        "id": "kh-8UhmYPRNu",
        "outputId": "1d6c9055-af58-458e-a4e2-0669f1c09118",
        "colab": {
          "base_uri": "https://localhost:8080/"
        }
      },
      "outputs": [
        {
          "output_type": "stream",
          "name": "stdout",
          "text": [
            "Primeiras 10 medidas de velocidade radial: \n",
            "[205.11975706 208.05945635 203.76641353 203.61035969 214.45285646\n",
            " 211.99164508 206.39950387 207.21150846 209.30679704 211.35966937] km / s\n",
            "[205119.75706422 208059.45635365 203766.41352526 203610.35969131\n",
            " 214452.85646176 211991.64508178 206399.50387    207211.50845717\n",
            " 209306.79704073 211359.66936646] m / s\n"
          ]
        }
      ],
      "source": [
        "print(\"\"\"Primeiras 10 medidas de velocidade radial: \n",
        "{0}\n",
        "{1}\"\"\".format(v[:10], v.to(u.m/u.s)[:10]))"
      ]
    },
    {
      "cell_type": "markdown",
      "metadata": {
        "id": "Q6abC9B2PRNu"
      },
      "source": [
        "Ocasionalmente podemos obter algum erro ao tentar graficar objetos do tipo `Quantity` com a biblioteca `matplotlib`. É sempre possível resolver este problema passando o valor do array (e.g., `v.value`) nas funções do `matplotlib`. No entanto, chamar a função `astropy.visualization.quantity_support()` irá mudar as configurações da sua sessão do `matplotlib` para lidar melhor com objetos do tipo `Quantity`:"
      ]
    },
    {
      "cell_type": "code",
      "execution_count": 11,
      "metadata": {
        "id": "jw_DFQX8PRNv",
        "outputId": "d07ca3e4-ad43-4fee-913d-cc139c9dfb2a",
        "colab": {
          "base_uri": "https://localhost:8080/"
        }
      },
      "outputs": [
        {
          "output_type": "execute_result",
          "data": {
            "text/plain": [
              "<astropy.visualization.units.quantity_support.<locals>.MplQuantityConverter at 0x7f75db389590>"
            ]
          },
          "metadata": {},
          "execution_count": 11
        }
      ],
      "source": [
        "quantity_support()"
      ]
    },
    {
      "cell_type": "markdown",
      "metadata": {
        "id": "lgWUKGn1PRNv"
      },
      "source": [
        "Agora podemos graficar um histograma do conjunto de dados de velocidade. Note que, devido a chamada da função `quantity_support()`, o eixo-x é automaticamente rotulado com as unidades corretas."
      ]
    },
    {
      "cell_type": "code",
      "execution_count": 12,
      "metadata": {
        "id": "PvC3uGigPRNv",
        "outputId": "84c01859-fa18-4982-929f-dde8e6210e72",
        "colab": {
          "base_uri": "https://localhost:8080/",
          "height": 300
        }
      },
      "outputs": [
        {
          "output_type": "execute_result",
          "data": {
            "text/plain": [
              "Text(0, 0.5, 'N')"
            ]
          },
          "metadata": {},
          "execution_count": 12
        },
        {
          "output_type": "display_data",
          "data": {
            "image/png": "[encoded data removed]",
            "text/plain": [
              "<Figure size 432x288 with 1 Axes>"
            ]
          },
          "metadata": {
            "needs_background": "light"
          }
        }
      ],
      "source": [
        "plt.figure()\n",
        "plt.hist(v, bins='auto', histtype=\"step\")\n",
        "plt.ylabel(\"N\")"
      ]
    },
    {
      "cell_type": "markdown",
      "metadata": {
        "id": "gHrFjV6mPRNv"
      },
      "source": [
        "Agora podemos calcular a dispersão de velocidades da galáxia. Isso demonstra como você pode executar operações básicas como subtração e divisão com objetos do tipo `Quantity`, e também usá-los como input de funções padrão do `numpy` como `mean()` e `size()`. Eles mantêm suas unidades através dessas operações, como esperávamos. "
      ]
    },
    {
      "cell_type": "code",
      "execution_count": 13,
      "metadata": {
        "id": "SoDGMh3FPRNw",
        "outputId": "6ba024f5-ea20-42a5-ab43-eab900ac257c",
        "colab": {
          "base_uri": "https://localhost:8080/"
        }
      },
      "outputs": [
        {
          "output_type": "stream",
          "name": "stdout",
          "text": [
            "Dispersão das velocidades: 4.36 km / s\n"
          ]
        }
      ],
      "source": [
        "sigma = np.sqrt(np.sum((v - np.mean(v))**2) / np.size(v))\n",
        "print(\"Dispersão das velocidades: {0:.2f}\".format(sigma))"
      ]
    },
    {
      "cell_type": "markdown",
      "metadata": {
        "id": "7Ke3dpQRPRNw"
      },
      "source": [
        "Note que precisamos usar a função raiz quadrada do `numpy`, porque a quantidade dispersão de velocidades é um array do`numpy`. Se ao invés disso você utilizou a função `sqrt()` da biblioteca padrão do python `math`, e/ou a função padrão `sum()` do python, vai obter um erro."
      ]
    },
    {
      "cell_type": "code",
      "source": [
        "from math import sqrt\n",
        "sigma_scalar = sqrt(sum((v - np.mean(v))**2) / len(v)) #não faça isso dessa maneira - use a versão abaixo!"
      ],
      "metadata": {
        "colab": {
          "base_uri": "https://localhost:8080/",
          "height": 505
        },
        "id": "bneRVQKkS8d5",
        "outputId": "ced33934-daca-4e46-f37f-cbd9e00bc7c9"
      },
      "execution_count": 57,
      "outputs": [
        {
          "output_type": "error",
          "ename": "TypeError",
          "evalue": "ignored",
          "traceback": [
            "\u001b[0;31m---------------------------------------------------------------------------\u001b[0m",
            "\u001b[0;31mUnitConversionError\u001b[0m                       Traceback (most recent call last)",
            "\u001b[0;32m/usr/local/lib/python3.7/dist-packages/astropy/units/quantity.py\u001b[0m in \u001b[0;36mto_value\u001b[0;34m(self, unit, equivalencies)\u001b[0m\n\u001b[1;32m    746\u001b[0m             \u001b[0;32mtry\u001b[0m\u001b[0;34m:\u001b[0m\u001b[0;34m\u001b[0m\u001b[0;34m\u001b[0m\u001b[0m\n\u001b[0;32m--> 747\u001b[0;31m                 \u001b[0mscale\u001b[0m \u001b[0;34m=\u001b[0m \u001b[0mself\u001b[0m\u001b[0;34m.\u001b[0m\u001b[0munit\u001b[0m\u001b[0;34m.\u001b[0m\u001b[0m_to\u001b[0m\u001b[0;34m(\u001b[0m\u001b[0munit\u001b[0m\u001b[0;34m)\u001b[0m\u001b[0;34m\u001b[0m\u001b[0;34m\u001b[0m\u001b[0m\n\u001b[0m\u001b[1;32m    748\u001b[0m             \u001b[0;32mexcept\u001b[0m \u001b[0mException\u001b[0m\u001b[0;34m:\u001b[0m\u001b[0;34m\u001b[0m\u001b[0;34m\u001b[0m\u001b[0m\n",
            "\u001b[0;32m/usr/local/lib/python3.7/dist-packages/astropy/units/core.py\u001b[0m in \u001b[0;36m_to\u001b[0;34m(self, other)\u001b[0m\n\u001b[1;32m   1096\u001b[0m         raise UnitConversionError(\n\u001b[0;32m-> 1097\u001b[0;31m             f\"'{self!r}' is not a scaled version of '{other!r}'\")\n\u001b[0m\u001b[1;32m   1098\u001b[0m \u001b[0;34m\u001b[0m\u001b[0m\n",
            "\u001b[0;31mUnitConversionError\u001b[0m: 'Unit(\"km2 / s2\")' is not a scaled version of 'Unit(dimensionless)'",
            "\nDuring handling of the above exception, another exception occurred:\n",
            "\u001b[0;31mUnitConversionError\u001b[0m                       Traceback (most recent call last)",
            "\u001b[0;32m/usr/local/lib/python3.7/dist-packages/astropy/units/quantity.py\u001b[0m in \u001b[0;36m__float__\u001b[0;34m(self)\u001b[0m\n\u001b[1;32m   1089\u001b[0m         \u001b[0;32mtry\u001b[0m\u001b[0;34m:\u001b[0m\u001b[0;34m\u001b[0m\u001b[0;34m\u001b[0m\u001b[0m\n\u001b[0;32m-> 1090\u001b[0;31m             \u001b[0;32mreturn\u001b[0m \u001b[0mfloat\u001b[0m\u001b[0;34m(\u001b[0m\u001b[0mself\u001b[0m\u001b[0;34m.\u001b[0m\u001b[0mto_value\u001b[0m\u001b[0;34m(\u001b[0m\u001b[0mdimensionless_unscaled\u001b[0m\u001b[0;34m)\u001b[0m\u001b[0;34m)\u001b[0m\u001b[0;34m\u001b[0m\u001b[0;34m\u001b[0m\u001b[0m\n\u001b[0m\u001b[1;32m   1091\u001b[0m         \u001b[0;32mexcept\u001b[0m \u001b[0;34m(\u001b[0m\u001b[0mUnitsError\u001b[0m\u001b[0;34m,\u001b[0m \u001b[0mTypeError\u001b[0m\u001b[0;34m)\u001b[0m\u001b[0;34m:\u001b[0m\u001b[0;34m\u001b[0m\u001b[0;34m\u001b[0m\u001b[0m\n",
            "\u001b[0;32m/usr/local/lib/python3.7/dist-packages/astropy/units/quantity.py\u001b[0m in \u001b[0;36mto_value\u001b[0;34m(self, unit, equivalencies)\u001b[0m\n\u001b[1;32m    749\u001b[0m                 \u001b[0;31m# Short-cut failed; try default (maybe equivalencies help).\u001b[0m\u001b[0;34m\u001b[0m\u001b[0;34m\u001b[0m\u001b[0;34m\u001b[0m\u001b[0m\n\u001b[0;32m--> 750\u001b[0;31m                 \u001b[0mvalue\u001b[0m \u001b[0;34m=\u001b[0m \u001b[0mself\u001b[0m\u001b[0;34m.\u001b[0m\u001b[0m_to_value\u001b[0m\u001b[0;34m(\u001b[0m\u001b[0munit\u001b[0m\u001b[0;34m,\u001b[0m \u001b[0mequivalencies\u001b[0m\u001b[0;34m)\u001b[0m\u001b[0;34m\u001b[0m\u001b[0;34m\u001b[0m\u001b[0m\n\u001b[0m\u001b[1;32m    751\u001b[0m             \u001b[0;32melse\u001b[0m\u001b[0;34m:\u001b[0m\u001b[0;34m\u001b[0m\u001b[0;34m\u001b[0m\u001b[0m\n",
            "\u001b[0;32m/usr/local/lib/python3.7/dist-packages/astropy/units/quantity.py\u001b[0m in \u001b[0;36m_to_value\u001b[0;34m(self, unit, equivalencies)\u001b[0m\n\u001b[1;32m    669\u001b[0m         return self.unit.to(unit, self.view(np.ndarray),\n\u001b[0;32m--> 670\u001b[0;31m                             equivalencies=equivalencies)\n\u001b[0m\u001b[1;32m    671\u001b[0m \u001b[0;34m\u001b[0m\u001b[0m\n",
            "\u001b[0;32m/usr/local/lib/python3.7/dist-packages/astropy/units/core.py\u001b[0m in \u001b[0;36mto\u001b[0;34m(self, other, value, equivalencies)\u001b[0m\n\u001b[1;32m   1133\u001b[0m             return self._get_converter(Unit(other),\n\u001b[0;32m-> 1134\u001b[0;31m                                        equivalencies=equivalencies)(value)\n\u001b[0m\u001b[1;32m   1135\u001b[0m \u001b[0;34m\u001b[0m\u001b[0m\n",
            "\u001b[0;32m/usr/local/lib/python3.7/dist-packages/astropy/units/core.py\u001b[0m in \u001b[0;36m_get_converter\u001b[0;34m(self, other, equivalencies)\u001b[0m\n\u001b[1;32m   1063\u001b[0m \u001b[0;34m\u001b[0m\u001b[0m\n\u001b[0;32m-> 1064\u001b[0;31m             \u001b[0;32mraise\u001b[0m \u001b[0mexc\u001b[0m\u001b[0;34m\u001b[0m\u001b[0;34m\u001b[0m\u001b[0m\n\u001b[0m\u001b[1;32m   1065\u001b[0m \u001b[0;34m\u001b[0m\u001b[0m\n",
            "\u001b[0;32m/usr/local/lib/python3.7/dist-packages/astropy/units/core.py\u001b[0m in \u001b[0;36m_get_converter\u001b[0;34m(self, other, equivalencies)\u001b[0m\n\u001b[1;32m   1049\u001b[0m             return self._apply_equivalencies(\n\u001b[0;32m-> 1050\u001b[0;31m                 self, other, self._normalize_equivalencies(equivalencies))\n\u001b[0m\u001b[1;32m   1051\u001b[0m         \u001b[0;32mexcept\u001b[0m \u001b[0mUnitsError\u001b[0m \u001b[0;32mas\u001b[0m \u001b[0mexc\u001b[0m\u001b[0;34m:\u001b[0m\u001b[0;34m\u001b[0m\u001b[0;34m\u001b[0m\u001b[0m\n",
            "\u001b[0;32m/usr/local/lib/python3.7/dist-packages/astropy/units/core.py\u001b[0m in \u001b[0;36m_apply_equivalencies\u001b[0;34m(self, unit, other, equivalencies)\u001b[0m\n\u001b[1;32m   1025\u001b[0m         raise UnitConversionError(\n\u001b[0;32m-> 1026\u001b[0;31m             f\"{unit_str} and {other_str} are not convertible\")\n\u001b[0m\u001b[1;32m   1027\u001b[0m \u001b[0;34m\u001b[0m\u001b[0m\n",
            "\u001b[0;31mUnitConversionError\u001b[0m: 'km2 / s2' (specific energy) and '' (dimensionless) are not convertible",
            "\nDuring handling of the above exception, another exception occurred:\n",
            "\u001b[0;31mTypeError\u001b[0m                                 Traceback (most recent call last)",
            "\u001b[0;32m<ipython-input-57-30b2861b07da>\u001b[0m in \u001b[0;36m<module>\u001b[0;34m()\u001b[0m\n\u001b[1;32m      1\u001b[0m \u001b[0;32mfrom\u001b[0m \u001b[0mmath\u001b[0m \u001b[0;32mimport\u001b[0m \u001b[0msqrt\u001b[0m\u001b[0;34m\u001b[0m\u001b[0;34m\u001b[0m\u001b[0m\n\u001b[0;32m----> 2\u001b[0;31m \u001b[0msigma_scalar\u001b[0m \u001b[0;34m=\u001b[0m \u001b[0msqrt\u001b[0m\u001b[0;34m(\u001b[0m\u001b[0msum\u001b[0m\u001b[0;34m(\u001b[0m\u001b[0;34m(\u001b[0m\u001b[0mv\u001b[0m \u001b[0;34m-\u001b[0m \u001b[0mnp\u001b[0m\u001b[0;34m.\u001b[0m\u001b[0mmean\u001b[0m\u001b[0;34m(\u001b[0m\u001b[0mv\u001b[0m\u001b[0;34m)\u001b[0m\u001b[0;34m)\u001b[0m\u001b[0;34m**\u001b[0m\u001b[0;36m2\u001b[0m\u001b[0;34m)\u001b[0m \u001b[0;34m/\u001b[0m \u001b[0mlen\u001b[0m\u001b[0;34m(\u001b[0m\u001b[0mv\u001b[0m\u001b[0;34m)\u001b[0m\u001b[0;34m)\u001b[0m\u001b[0;34m\u001b[0m\u001b[0;34m\u001b[0m\u001b[0m\n\u001b[0m",
            "\u001b[0;32m/usr/local/lib/python3.7/dist-packages/astropy/units/quantity.py\u001b[0m in \u001b[0;36m__float__\u001b[0;34m(self)\u001b[0m\n\u001b[1;32m   1090\u001b[0m             \u001b[0;32mreturn\u001b[0m \u001b[0mfloat\u001b[0m\u001b[0;34m(\u001b[0m\u001b[0mself\u001b[0m\u001b[0;34m.\u001b[0m\u001b[0mto_value\u001b[0m\u001b[0;34m(\u001b[0m\u001b[0mdimensionless_unscaled\u001b[0m\u001b[0;34m)\u001b[0m\u001b[0;34m)\u001b[0m\u001b[0;34m\u001b[0m\u001b[0;34m\u001b[0m\u001b[0m\n\u001b[1;32m   1091\u001b[0m         \u001b[0;32mexcept\u001b[0m \u001b[0;34m(\u001b[0m\u001b[0mUnitsError\u001b[0m\u001b[0;34m,\u001b[0m \u001b[0mTypeError\u001b[0m\u001b[0;34m)\u001b[0m\u001b[0;34m:\u001b[0m\u001b[0;34m\u001b[0m\u001b[0;34m\u001b[0m\u001b[0m\n\u001b[0;32m-> 1092\u001b[0;31m             raise TypeError('only dimensionless scalar quantities can be '\n\u001b[0m\u001b[1;32m   1093\u001b[0m                             'converted to Python scalars')\n\u001b[1;32m   1094\u001b[0m \u001b[0;34m\u001b[0m\u001b[0m\n",
            "\u001b[0;31mTypeError\u001b[0m: only dimensionless scalar quantities can be converted to Python scalars"
          ]
        }
      ]
    },
    {
      "cell_type": "code",
      "execution_count": 14,
      "metadata": {
        "id": "ModD2CsAPRNw"
      },
      "outputs": [],
      "source": [
        "sigma_scalar = np.sqrt(np.sum((v - np.mean(v))**2) / len(v))"
      ]
    },
    {
      "cell_type": "markdown",
      "metadata": {
        "id": "7OSMr739PRNx"
      },
      "source": [
        "Em geral, você deve utilizar apenas funções do `numpy` com objetos do tipo `Quantity`, e *não* as funções equivalentes da biblioteca `math`, a não ser que você tenha certeza de que entendeu as consequências."
      ]
    },
    {
      "cell_type": "markdown",
      "metadata": {
        "id": "HRhCVlbKPRNx"
      },
      "source": [
        "Agora vamos calcular a massa real. Se uma galáxia é mantida pela pressão (por exemplo, uma galáxia elíptica ou esferoidal), a massa que está contida na extensão estrelar pode ser estimada utilizando uma equação simples: $M_{1/2}=4\\sigma^2 R_{eff}/G$.  Existem algumas ressalvas para o uso desta equação  -- para mais detalhes, ver Wolf et al. 2010. Para uma demonstração didática dos objetos do tipo `Quantity`, você pode aceitar que esta equação geralmente é boa o suficiente. Para o cálculo, nós podemos multiplicar as quantidades juntas e o `astropy` irá acompanhar as unidades."
      ]
    },
    {
      "cell_type": "code",
      "execution_count": 15,
      "metadata": {
        "id": "ukqc6ozBPRNx",
        "outputId": "78808f0c-3781-4141-8ba1-7ff6d79a8969",
        "colab": {
          "base_uri": "https://localhost:8080/",
          "height": 41
        }
      },
      "outputs": [
        {
          "output_type": "execute_result",
          "data": {
            "text/latex": "$3.3084841 \\times 10^{13} \\; \\mathrm{\\frac{km^{2}\\,kg\\,pc}{m^{3}}}$",
            "text/plain": [
              "<Quantity 3.30848411e+13 kg km2 pc / m3>"
            ]
          },
          "metadata": {},
          "execution_count": 15
        }
      ],
      "source": [
        "M = 4*sigma**2*Reff/G\n",
        "M"
      ]
    },
    {
      "cell_type": "markdown",
      "metadata": {
        "id": "7-nwu6viPRNx"
      },
      "source": [
        "Esse resultado é uma composição de unidades, e não é tão óbvio perceber que ele está em unidades de massa. No entanto, as unidades podem ser decompostas para cancelar todas as unidades de comprimento ($km^2 pc/m^3$) usando o método `decompose()`."
      ]
    },
    {
      "cell_type": "code",
      "execution_count": 16,
      "metadata": {
        "id": "aVddBRCSPRNx",
        "outputId": "19267818-c398-40ba-a07f-1f5f4f265ef1",
        "colab": {
          "base_uri": "https://localhost:8080/",
          "height": 37
        }
      },
      "outputs": [
        {
          "output_type": "execute_result",
          "data": {
            "text/latex": "$1.0208915 \\times 10^{36} \\; \\mathrm{kg}$",
            "text/plain": [
              "<Quantity 1.02089152e+36 kg>"
            ]
          },
          "metadata": {},
          "execution_count": 16
        }
      ],
      "source": [
        "M.decompose()"
      ]
    },
    {
      "cell_type": "markdown",
      "metadata": {
        "id": "LNw03ffcPRNy"
      },
      "source": [
        "Também podemos facilmente expressar a massa em qualquer outra unidade que você assim desejar -- massas solares são comuns em astronomia, ou talvez você queira as unidades padrão SI e CGS."
      ]
    },
    {
      "cell_type": "code",
      "execution_count": 17,
      "metadata": {
        "id": "4bA85KkMPRNy",
        "outputId": "ae765af8-c78e-455b-fa3c-08506ba71688",
        "colab": {
          "base_uri": "https://localhost:8080/"
        }
      },
      "outputs": [
        {
          "output_type": "stream",
          "name": "stdout",
          "text": [
            "Massa da Galáxia\n",
            "em unidades solares: 5.13e+05 solMass\n",
            "unidades do SI: 1.02e+36 kg\n",
            "unidades do CGS: 1.02e+39 g\n"
          ]
        }
      ],
      "source": [
        "print(\"\"\"Massa da Galáxia\n",
        "em unidades solares: {0:.3g}\n",
        "unidades do SI: {1:.3g}\n",
        "unidades do CGS: {2:.3g}\"\"\".format(M.to(u.Msun), M.si, M.cgs))"
      ]
    },
    {
      "cell_type": "markdown",
      "metadata": {
        "id": "m2yIbSagPRNy"
      },
      "source": [
        "Ou, se você quer o log da massa, você pode utilizar ``np.log10()``, uma vez que argumentos de logaritmos são adimensionais."
      ]
    },
    {
      "cell_type": "code",
      "execution_count": 18,
      "metadata": {
        "id": "S0HSEXjhPRNz",
        "outputId": "e6a6c0c8-472a-400f-9d6d-de2f4597542b",
        "colab": {
          "base_uri": "https://localhost:8080/"
        }
      },
      "outputs": [
        {
          "output_type": "execute_result",
          "data": {
            "text/plain": [
              "5.7104736875684186"
            ]
          },
          "metadata": {},
          "execution_count": 18
        }
      ],
      "source": [
        "np.log10(M.to_value(u.Msun))"
      ]
    },
    {
      "cell_type": "markdown",
      "metadata": {
        "id": "iTy3B7SqPRNz"
      },
      "source": [
        "Contudo, você não pode tomar o log de algo com unidaes, pois isso não é matematicamente sensato."
      ]
    },
    {
      "cell_type": "code",
      "execution_count": 19,
      "metadata": {
        "tags": [
          "raises-exception"
        ],
        "id": "om5gIbt_PRNz",
        "outputId": "8e130993-d9ae-45d6-df45-f3ee56effbb4",
        "colab": {
          "base_uri": "https://localhost:8080/",
          "height": 421
        }
      },
      "outputs": [
        {
          "output_type": "error",
          "ename": "UnitTypeError",
          "evalue": "ignored",
          "traceback": [
            "\u001b[0;31m---------------------------------------------------------------------------\u001b[0m",
            "\u001b[0;31mUnitConversionError\u001b[0m                       Traceback (most recent call last)",
            "\u001b[0;32m/usr/local/lib/python3.7/dist-packages/astropy/units/quantity_helper/helpers.py\u001b[0m in \u001b[0;36mhelper_dimensionless_to_dimensionless\u001b[0;34m(f, unit)\u001b[0m\n\u001b[1;32m    137\u001b[0m     \u001b[0;32mtry\u001b[0m\u001b[0;34m:\u001b[0m\u001b[0;34m\u001b[0m\u001b[0;34m\u001b[0m\u001b[0m\n\u001b[0;32m--> 138\u001b[0;31m         return ([get_converter(unit, dimensionless_unscaled)],\n\u001b[0m\u001b[1;32m    139\u001b[0m                 dimensionless_unscaled)\n",
            "\u001b[0;32m/usr/local/lib/python3.7/dist-packages/astropy/units/quantity_helper/helpers.py\u001b[0m in \u001b[0;36mget_converter\u001b[0;34m(from_unit, to_unit)\u001b[0m\n\u001b[1;32m     31\u001b[0m     i.e., if the inferred scale is unity.\"\"\"\n\u001b[0;32m---> 32\u001b[0;31m     \u001b[0mconverter\u001b[0m \u001b[0;34m=\u001b[0m \u001b[0mfrom_unit\u001b[0m\u001b[0;34m.\u001b[0m\u001b[0m_get_converter\u001b[0m\u001b[0;34m(\u001b[0m\u001b[0mto_unit\u001b[0m\u001b[0;34m)\u001b[0m\u001b[0;34m\u001b[0m\u001b[0;34m\u001b[0m\u001b[0m\n\u001b[0m\u001b[1;32m     33\u001b[0m     \u001b[0;32mreturn\u001b[0m \u001b[0;32mNone\u001b[0m \u001b[0;32mif\u001b[0m \u001b[0mconverter\u001b[0m \u001b[0;32mis\u001b[0m \u001b[0munit_scale_converter\u001b[0m \u001b[0;32melse\u001b[0m \u001b[0mconverter\u001b[0m\u001b[0;34m\u001b[0m\u001b[0;34m\u001b[0m\u001b[0m\n",
            "\u001b[0;32m/usr/local/lib/python3.7/dist-packages/astropy/units/core.py\u001b[0m in \u001b[0;36m_get_converter\u001b[0;34m(self, other, equivalencies)\u001b[0m\n\u001b[1;32m   1063\u001b[0m \u001b[0;34m\u001b[0m\u001b[0m\n\u001b[0;32m-> 1064\u001b[0;31m             \u001b[0;32mraise\u001b[0m \u001b[0mexc\u001b[0m\u001b[0;34m\u001b[0m\u001b[0;34m\u001b[0m\u001b[0m\n\u001b[0m\u001b[1;32m   1065\u001b[0m \u001b[0;34m\u001b[0m\u001b[0m\n",
            "\u001b[0;32m/usr/local/lib/python3.7/dist-packages/astropy/units/core.py\u001b[0m in \u001b[0;36m_get_converter\u001b[0;34m(self, other, equivalencies)\u001b[0m\n\u001b[1;32m   1049\u001b[0m             return self._apply_equivalencies(\n\u001b[0;32m-> 1050\u001b[0;31m                 self, other, self._normalize_equivalencies(equivalencies))\n\u001b[0m\u001b[1;32m   1051\u001b[0m         \u001b[0;32mexcept\u001b[0m \u001b[0mUnitsError\u001b[0m \u001b[0;32mas\u001b[0m \u001b[0mexc\u001b[0m\u001b[0;34m:\u001b[0m\u001b[0;34m\u001b[0m\u001b[0;34m\u001b[0m\u001b[0m\n",
            "\u001b[0;32m/usr/local/lib/python3.7/dist-packages/astropy/units/core.py\u001b[0m in \u001b[0;36m_apply_equivalencies\u001b[0;34m(self, unit, other, equivalencies)\u001b[0m\n\u001b[1;32m   1025\u001b[0m         raise UnitConversionError(\n\u001b[0;32m-> 1026\u001b[0;31m             f\"{unit_str} and {other_str} are not convertible\")\n\u001b[0m\u001b[1;32m   1027\u001b[0m \u001b[0;34m\u001b[0m\u001b[0m\n",
            "\u001b[0;31mUnitConversionError\u001b[0m: 'kg km2 pc / m3' (mass) and '' (dimensionless) are not convertible",
            "\nDuring handling of the above exception, another exception occurred:\n",
            "\u001b[0;31mUnitTypeError\u001b[0m                             Traceback (most recent call last)",
            "\u001b[0;32m<ipython-input-19-1faee346a12e>\u001b[0m in \u001b[0;36m<module>\u001b[0;34m()\u001b[0m\n\u001b[0;32m----> 1\u001b[0;31m \u001b[0mnp\u001b[0m\u001b[0;34m.\u001b[0m\u001b[0mlog10\u001b[0m\u001b[0;34m(\u001b[0m\u001b[0mM\u001b[0m\u001b[0;34m)\u001b[0m\u001b[0;34m\u001b[0m\u001b[0;34m\u001b[0m\u001b[0m\n\u001b[0m",
            "\u001b[0;32m/usr/local/lib/python3.7/dist-packages/astropy/units/quantity.py\u001b[0m in \u001b[0;36m__array_ufunc__\u001b[0;34m(self, function, method, *inputs, **kwargs)\u001b[0m\n\u001b[1;32m    464\u001b[0m         \u001b[0;31m# consistent units between two inputs (e.g., in np.add) --\u001b[0m\u001b[0;34m\u001b[0m\u001b[0;34m\u001b[0m\u001b[0;34m\u001b[0m\u001b[0m\n\u001b[1;32m    465\u001b[0m         \u001b[0;31m# and the unit of the result (or tuple of units for nout > 1).\u001b[0m\u001b[0;34m\u001b[0m\u001b[0;34m\u001b[0m\u001b[0;34m\u001b[0m\u001b[0m\n\u001b[0;32m--> 466\u001b[0;31m         \u001b[0mconverters\u001b[0m\u001b[0;34m,\u001b[0m \u001b[0munit\u001b[0m \u001b[0;34m=\u001b[0m \u001b[0mconverters_and_unit\u001b[0m\u001b[0;34m(\u001b[0m\u001b[0mfunction\u001b[0m\u001b[0;34m,\u001b[0m \u001b[0mmethod\u001b[0m\u001b[0;34m,\u001b[0m \u001b[0;34m*\u001b[0m\u001b[0minputs\u001b[0m\u001b[0;34m)\u001b[0m\u001b[0;34m\u001b[0m\u001b[0;34m\u001b[0m\u001b[0m\n\u001b[0m\u001b[1;32m    467\u001b[0m \u001b[0;34m\u001b[0m\u001b[0m\n\u001b[1;32m    468\u001b[0m         \u001b[0mout\u001b[0m \u001b[0;34m=\u001b[0m \u001b[0mkwargs\u001b[0m\u001b[0;34m.\u001b[0m\u001b[0mget\u001b[0m\u001b[0;34m(\u001b[0m\u001b[0;34m'out'\u001b[0m\u001b[0;34m,\u001b[0m \u001b[0;32mNone\u001b[0m\u001b[0;34m)\u001b[0m\u001b[0;34m\u001b[0m\u001b[0;34m\u001b[0m\u001b[0m\n",
            "\u001b[0;32m/usr/local/lib/python3.7/dist-packages/astropy/units/quantity_helper/converters.py\u001b[0m in \u001b[0;36mconverters_and_unit\u001b[0;34m(function, method, *args)\u001b[0m\n\u001b[1;32m    172\u001b[0m \u001b[0;34m\u001b[0m\u001b[0m\n\u001b[1;32m    173\u001b[0m         \u001b[0;31m# Determine possible conversion functions, and the result unit.\u001b[0m\u001b[0;34m\u001b[0m\u001b[0;34m\u001b[0m\u001b[0;34m\u001b[0m\u001b[0m\n\u001b[0;32m--> 174\u001b[0;31m         \u001b[0mconverters\u001b[0m\u001b[0;34m,\u001b[0m \u001b[0mresult_unit\u001b[0m \u001b[0;34m=\u001b[0m \u001b[0mufunc_helper\u001b[0m\u001b[0;34m(\u001b[0m\u001b[0mfunction\u001b[0m\u001b[0;34m,\u001b[0m \u001b[0;34m*\u001b[0m\u001b[0munits\u001b[0m\u001b[0;34m)\u001b[0m\u001b[0;34m\u001b[0m\u001b[0;34m\u001b[0m\u001b[0m\n\u001b[0m\u001b[1;32m    175\u001b[0m \u001b[0;34m\u001b[0m\u001b[0m\n\u001b[1;32m    176\u001b[0m         \u001b[0;32mif\u001b[0m \u001b[0many\u001b[0m\u001b[0;34m(\u001b[0m\u001b[0mconverter\u001b[0m \u001b[0;32mis\u001b[0m \u001b[0;32mFalse\u001b[0m \u001b[0;32mfor\u001b[0m \u001b[0mconverter\u001b[0m \u001b[0;32min\u001b[0m \u001b[0mconverters\u001b[0m\u001b[0;34m)\u001b[0m\u001b[0;34m:\u001b[0m\u001b[0;34m\u001b[0m\u001b[0;34m\u001b[0m\u001b[0m\n",
            "\u001b[0;32m/usr/local/lib/python3.7/dist-packages/astropy/units/quantity_helper/helpers.py\u001b[0m in \u001b[0;36mhelper_dimensionless_to_dimensionless\u001b[0;34m(f, unit)\u001b[0m\n\u001b[1;32m    141\u001b[0m         raise UnitTypeError(\"Can only apply '{}' function to \"\n\u001b[1;32m    142\u001b[0m                             \u001b[0;34m\"dimensionless quantities\"\u001b[0m\u001b[0;34m\u001b[0m\u001b[0;34m\u001b[0m\u001b[0m\n\u001b[0;32m--> 143\u001b[0;31m                             .format(f.__name__))\n\u001b[0m\u001b[1;32m    144\u001b[0m \u001b[0;34m\u001b[0m\u001b[0m\n\u001b[1;32m    145\u001b[0m \u001b[0;34m\u001b[0m\u001b[0m\n",
            "\u001b[0;31mUnitTypeError\u001b[0m: Can only apply 'log10' function to dimensionless quantities"
          ]
        }
      ],
      "source": [
        "np.log10(M)"
      ]
    },
    {
      "cell_type": "markdown",
      "metadata": {
        "id": "pdNIVuxYPRNz"
      },
      "source": [
        "## Exercícos"
      ]
    },
    {
      "cell_type": "markdown",
      "metadata": {
        "id": "3AZeIjihPRN0"
      },
      "source": [
        "Use um objeto do tipo `Quantity` e a lei de Kepler na forma abaixo para determinar a velocidade orbital (circular) da Terra ao redor do Sol em km/s. Não é preciso procurar os valores de constantes ou fatores de conversão para fazer esse cálculo -- está tudo dentro dos módulos `astropy.units` e `astropy.constants`.\n",
        "\n",
        "$$v = \\sqrt{\\frac{G M_{\\odot}}{r}}$$"
      ]
    },
    {
      "cell_type": "code",
      "execution_count": 19,
      "metadata": {
        "id": "UuzGONwpPRN0"
      },
      "outputs": [],
      "source": [
        ""
      ]
    },
    {
      "cell_type": "markdown",
      "metadata": {
        "id": "tEV1hO8nPRN0"
      },
      "source": [
        "Existe um jeito muito mais fácil de descobrir a velocidade da Terra usando apenas duas unidades ou quantidades. Faça isso e então compare com a resposta da lei de Kepler (a forma mais fácil provavelmente é calcular a diferença percentual, caso exista alguma)."
      ]
    },
    {
      "cell_type": "code",
      "execution_count": 19,
      "metadata": {
        "id": "RGFdSq3vPRN0"
      },
      "outputs": [],
      "source": [
        ""
      ]
    },
    {
      "cell_type": "markdown",
      "metadata": {
        "id": "JgHbgjR8PRN0"
      },
      "source": [
        "(Completamente opcional, mas é uma boa maneira de convencer a você mesmo sobre o valor do objeto `Quantity`:) Faça os cálculos acima na mão -- você pode utilizar uma calculadora (ou python apenas para a aritmética) mas procure todos os fatores de conversão e utilize a abordagem papel-lápis para acompanhar todos eles. Qual abordagem demorou mais?"
      ]
    },
    {
      "cell_type": "code",
      "execution_count": 19,
      "metadata": {
        "id": "z9UwrEbWPRN1"
      },
      "outputs": [],
      "source": [
        ""
      ]
    },
    {
      "cell_type": "markdown",
      "metadata": {
        "id": "o3IIAuU8PRN1"
      },
      "source": [
        "## 2. Massa de uma nuvem molecular"
      ]
    },
    {
      "cell_type": "markdown",
      "metadata": {
        "id": "hreuihvgPRN1"
      },
      "source": [
        "Nesse segundo exemplo, nós vamos demonstrar como utilizar objetos do tipo `Quantity` pode facilitar uma derivação completa da massa total de uma nuvem molecular usando radio observações de isótopos de Monóxido de Carbono (CO)."
      ]
    },
    {
      "cell_type": "markdown",
      "metadata": {
        "id": "KRbmoJHaPRN1"
      },
      "source": [
        "#### Configurando o cubo de dados"
      ]
    },
    {
      "cell_type": "markdown",
      "metadata": {
        "id": "0D-M8HsYPRN1"
      },
      "source": [
        "Vamos assumir que nós mapeamos a parte interna de uma nuvem molecular na transição rotacional J=1-0 do ${\\rm C}^{18}{\\rm O}$, e estamos interessados em medir sua massa total. A medida produz um cubo de dados com RA e Dec como coordenadas espacials, e na terceira dimensão a velocidade. Cada voxel no cubo de dados representa a temperatura de brilho da emissão naquela posição e velocidade. Além disso, iremos assumir que nós temos uma medida independente de distância até a nuvem $d=250$ pc e a temperatura de excitação é conhecida e constante em toda nuvem $T_{ex}=25$ K."
      ]
    },
    {
      "cell_type": "code",
      "execution_count": 20,
      "metadata": {
        "id": "ZxG2wgxyPRN2"
      },
      "outputs": [],
      "source": [
        "d = 250 * u.pc\n",
        "Tex = 25 * u.K"
      ]
    },
    {
      "cell_type": "markdown",
      "metadata": {
        "id": "GG1QDaGTPRN2"
      },
      "source": [
        "Nós iremos gerar um conjunto de dados sintético, assumindo que a nuvem segue uma distribuição Gaussiana em cada um dos eixos RA, Dec e velocidade. Vamos começar criando um numpy array de dimensões 100x100x300,  tal que a primeira coordenada é a ascenção reta, a segunda a declinação e a terceira a velocidade. Vamos usar a função `numpy.meshgrid()` para criar cubos de dados para cada uma das três coordenadas, e então usá-las na fórmula da Gaussiana para gerar um array com o cubo de dados sintéticos. Nesse cubo, a nuvem é posicionada no centro, com $\\sigma$ e o centro em cada dimensão mostrados abaixo. Note em particular que, $\\sigma$ para RA e Dec possuem diferentes unidades do centro, mas automaticamente o `astropy` realiza conversões relevantes antes de computar a exponencial."
      ]
    },
    {
      "cell_type": "code",
      "execution_count": 21,
      "metadata": {
        "id": "5UJkRIRSPRN2"
      },
      "outputs": [],
      "source": [
        "# Centro da nuvem\n",
        "cen_ra = 52.25 * u.deg\n",
        "cen_dec = 0.25 * u.deg\n",
        "cen_v = 15 * u.km/u.s\n",
        "\n",
        "# Tamanho da nuvem\n",
        "sig_ra = 3 * u.arcmin\n",
        "sig_dec = 4 * u.arcmin\n",
        "sig_v = 3 * u.km/u.s\n",
        "\n",
        "#quantidades de coordenadas 1D\n",
        "ra = np.linspace(52, 52.5, 100) * u.deg\n",
        "dec = np.linspace(0, 0.5, 100) * u.deg\n",
        "v = np.linspace(0, 30, 300) *u.km/u.s\n",
        "\n",
        "#isso cria o cubo de dados de tamanho específico para cada coordenada baseado nas dimensões da outra coordenada\n",
        "ra_cube, dec_cube, v_cube = np.meshgrid(ra, dec, v)\n",
        "\n",
        "data_gauss = np.exp(-0.5*((ra_cube-cen_ra)/sig_ra)**2 + \n",
        "                    -0.5*((dec_cube-cen_dec)/sig_dec)**2 + \n",
        "                    -0.5*((v_cube-cen_v)/sig_v)**2 )"
      ]
    },
    {
      "cell_type": "markdown",
      "metadata": {
        "id": "Pusyb4ZWPRN3"
      },
      "source": [
        "As unidades da exponencial são adimensionais, então multiplicamos o cubo de dados por K para obter as unidades de temperatura de brilho. Os radioastrônomos usam um conjunto bastante estranho de unidades [K km/s] como de intensidade integrada (isto é, somando toda a emissão de uma linha sobre a velocidade). Como um aparte para os especialistas, estamos configurando nosso cubo artificial na escala de temperatura do feixe principal (T$_{\\rm MB}$), que é o mais próximo que normalmente podemos chegar da temperatura de brilho real de nossa fonte."
      ]
    },
    {
      "cell_type": "code",
      "execution_count": 22,
      "metadata": {
        "id": "Izv2qzdYPRN3"
      },
      "outputs": [],
      "source": [
        "data = data_gauss * u.K"
      ]
    },
    {
      "cell_type": "markdown",
      "metadata": {
        "id": "7XJ_EK37PRN3"
      },
      "source": [
        "Nós também iremos precisar saber a largura de cada bin de velocidade e o tamanho de cada pixel, então vamos calcular isso agora!"
      ]
    },
    {
      "cell_type": "code",
      "execution_count": 23,
      "metadata": {
        "id": "tTu_pxRKPRN4",
        "colab": {
          "base_uri": "https://localhost:8080/"
        },
        "outputId": "429a291c-62e0-4e30-adbd-39a0d88d0e3b"
      },
      "outputs": [
        {
          "output_type": "stream",
          "name": "stdout",
          "text": [
            "dra = 18.0 arcsec\n",
            "ddec = 18.0 arcsec\n",
            "dv = 0.1 km / s\n"
          ]
        }
      ],
      "source": [
        "# Tamanho médio do pixel\n",
        "# Isso só estará correto se  dec ~ 0, devido o fator cos(dec).\n",
        "dra = (ra.max() - ra.min()) / len(ra)\n",
        "ddec = (dec.max() - dec.min()) / len(dec)\n",
        "\n",
        "#Largura do bin de velocidade média\n",
        "dv = (v.max() - v.min()) / len(v)\n",
        "print(\"\"\"dra = {0}\n",
        "ddec = {1}\n",
        "dv = {2}\"\"\".format(dra.to(u.arcsec), ddec.to(u.arcsec), dv))"
      ]
    },
    {
      "cell_type": "markdown",
      "metadata": {
        "id": "iSfWppb_PRN4"
      },
      "source": [
        "Estamos interessados ​​na intensidade integrada em todos os canais de velocidade, então vamos criar uma matriz 2D de quantidades somando nosso cubo de dados ao longo do eixo de velocidade (multiplicando pela largura da velocidade de um pixel)."
      ]
    },
    {
      "cell_type": "code",
      "execution_count": 24,
      "metadata": {
        "id": "1wjWjdTJPRN4",
        "colab": {
          "base_uri": "https://localhost:8080/",
          "height": 38
        },
        "outputId": "5826c801-5a43-4ccf-d3f6-f89d11bffd9d"
      },
      "outputs": [
        {
          "output_type": "execute_result",
          "data": {
            "text/latex": "$\\mathrm{\\frac{K\\,km}{s}}$",
            "text/plain": [
              "Unit(\"K km / s\")"
            ]
          },
          "metadata": {},
          "execution_count": 24
        }
      ],
      "source": [
        "intcloud = np.sum(data*dv, axis=2)\n",
        "intcloud.unit"
      ]
    },
    {
      "cell_type": "markdown",
      "metadata": {
        "id": "K97uNTcpPRN4"
      },
      "source": [
        "Podemos graficar a quantidade 2D usando a função `imshow()` do `matplotlib`, passando o valor da quantidade. Da mesma forma, podemos definir a extensão correta usando os valores de $x_i$ e $x_f$. Finalmente, podemos definir o rótulo da barra de cores para obter as unidades apropriadas."
      ]
    },
    {
      "cell_type": "code",
      "execution_count": 25,
      "metadata": {
        "id": "JuoDagAPPRN5",
        "colab": {
          "base_uri": "https://localhost:8080/",
          "height": 283
        },
        "outputId": "b83af6ac-4b82-472a-955b-0cc3e16c7705"
      },
      "outputs": [
        {
          "output_type": "display_data",
          "data": {
            "image/png": "[encoded data removed]",
            "text/plain": [
              "<Figure size 432x288 with 2 Axes>"
            ]
          },
          "metadata": {
            "needs_background": "light"
          }
        }
      ],
      "source": [
        "#Note que exibimos RA na forma convencional, indo do max ao min\n",
        "plt.imshow(intcloud.value, \n",
        "           origin='lower', \n",
        "           extent=[ra.value.max(), ra.value.min(), dec.value.min(), dec.value.max()], \n",
        "           cmap='hot', \n",
        "           interpolation='nearest', \n",
        "           aspect='equal')\n",
        "plt.colorbar().set_label(\"Intensidade ({})\".format(intcloud.unit))\n",
        "plt.xlabel(\"RA (graus)\")\n",
        "plt.ylabel(\"Dec (graus)\");"
      ]
    },
    {
      "cell_type": "markdown",
      "metadata": {
        "id": "VF_2yniePRN5"
      },
      "source": [
        "#### Medindo a densidade da coluna de CO"
      ]
    },
    {
      "cell_type": "markdown",
      "metadata": {
        "id": "BNJjlIurPRN5"
      },
      "source": [
        "Para calcular a massa da nuvem molecular, precisamos medir sua densidade de coluna. Uma série de premissas são necessárias para o cálculo a seguir; o mais importante é que a emissão é opticamente fina (tipicamente verdadeira para ${\\rm C}^{18}{\\rm O}$) e que as condições de equilíbrio termodinâmico local se mantêm ao longo da linha de visão. No caso em que a temperatura é grande em comparação com a separação em níveis de energia para uma molécula e a fonte preenche o feixe principal do telescópio, a densidade total da coluna para ${\\rm C}^{13}{\\rm O}$ é\n",
        "\n",
        "$N=C \\frac{\\int T_B(V) dV}{1-e^{-B}}$\n",
        "\n",
        "onde as constantes $C$ e $B$ são dadas por:\n",
        "\n",
        "$C=3.0\\times10^{14} \\left(\\frac{\\nu}{\\nu_{13}}\\right)^2 \\frac{A_{13}}{A} {\\rm K^{-1 } cm^{-2} \\,km^{-1} \\,s}$\n",
        "\n",
        "$B=\\frac{h\\nu}{k_B T}$\n",
        "\n",
        "(Rohlfs & Wilson [Ferramentas para Radioastronomia](https://www.springer.com/gp/book/9783662053942))."
      ]
    },
    {
      "cell_type": "markdown",
      "metadata": {
        "id": "IPXBBtQbPRN6"
      },
      "source": [
        "Aqui, demos uma expressão para $C$ dimensionada para os valores de ${\\rm C}^{13}{\\rm O}$ ($\\nu_{13}$ e $A_{13}$). Para usar essa relação para ${\\rm C}^{18}{\\rm O}$, precisamos redimensionar as frequências ${\\nu}$ e os coeficientes de Einstein $A$. $C$ está em unidades mistas engraçadas, mas tudo bem. Vamos defini-lo como um objeto do tipo `Quantities` e não temos que nos preocupar com isso.\n",
        "\n",
        "Primeiro, procuramos o comprimento de onda dessas linhas de emissão e as armazenamos como quantidades."
      ]
    },
    {
      "cell_type": "code",
      "execution_count": 26,
      "metadata": {
        "id": "N3WpE00IPRN6"
      },
      "outputs": [],
      "source": [
        "lambda13 = 2.60076 * u.mm\n",
        "lambda18 = 2.73079 * u.mm"
      ]
    },
    {
      "cell_type": "markdown",
      "metadata": {
        "id": "YHGZ0a73PRN6"
      },
      "source": [
        "Como o comprimento de onda e a frequência da luz estão relacionados usando a velocidade da luz, podemos fazer uma conversão entre eles. No entanto, fazer isso apenas usando o método `to()` falha, pois as unidades de comprimento e frequência não são conversíveis:"
      ]
    },
    {
      "cell_type": "code",
      "execution_count": 27,
      "metadata": {
        "tags": [
          "raises-exception"
        ],
        "id": "s3-VudEuPRN6",
        "colab": {
          "base_uri": "https://localhost:8080/",
          "height": 320
        },
        "outputId": "ea468d71-c37c-48f7-ee60-d20de7662efc"
      },
      "outputs": [
        {
          "output_type": "error",
          "ename": "UnitConversionError",
          "evalue": "ignored",
          "traceback": [
            "\u001b[0;31m---------------------------------------------------------------------------\u001b[0m",
            "\u001b[0;31mUnitConversionError\u001b[0m                       Traceback (most recent call last)",
            "\u001b[0;32m<ipython-input-27-2e9e7e5707cb>\u001b[0m in \u001b[0;36m<module>\u001b[0;34m()\u001b[0m\n\u001b[0;32m----> 1\u001b[0;31m \u001b[0mnu13\u001b[0m \u001b[0;34m=\u001b[0m \u001b[0mlambda13\u001b[0m\u001b[0;34m.\u001b[0m\u001b[0mto\u001b[0m\u001b[0;34m(\u001b[0m\u001b[0mu\u001b[0m\u001b[0;34m.\u001b[0m\u001b[0mHz\u001b[0m\u001b[0;34m)\u001b[0m\u001b[0;34m\u001b[0m\u001b[0;34m\u001b[0m\u001b[0m\n\u001b[0m\u001b[1;32m      2\u001b[0m \u001b[0mnu18\u001b[0m \u001b[0;34m=\u001b[0m \u001b[0mlambda18\u001b[0m\u001b[0;34m.\u001b[0m\u001b[0mto\u001b[0m\u001b[0;34m(\u001b[0m\u001b[0mu\u001b[0m\u001b[0;34m.\u001b[0m\u001b[0mHz\u001b[0m\u001b[0;34m)\u001b[0m\u001b[0;34m\u001b[0m\u001b[0;34m\u001b[0m\u001b[0m\n",
            "\u001b[0;32m/usr/local/lib/python3.7/dist-packages/astropy/units/quantity.py\u001b[0m in \u001b[0;36mto\u001b[0;34m(self, unit, equivalencies, copy)\u001b[0m\n\u001b[1;32m    703\u001b[0m             \u001b[0;31m# Avoid using to_value to ensure that we make a copy. We also\u001b[0m\u001b[0;34m\u001b[0m\u001b[0;34m\u001b[0m\u001b[0;34m\u001b[0m\u001b[0m\n\u001b[1;32m    704\u001b[0m             \u001b[0;31m# don't want to slow down this method (esp. the scalar case).\u001b[0m\u001b[0;34m\u001b[0m\u001b[0;34m\u001b[0m\u001b[0;34m\u001b[0m\u001b[0m\n\u001b[0;32m--> 705\u001b[0;31m             \u001b[0mvalue\u001b[0m \u001b[0;34m=\u001b[0m \u001b[0mself\u001b[0m\u001b[0;34m.\u001b[0m\u001b[0m_to_value\u001b[0m\u001b[0;34m(\u001b[0m\u001b[0munit\u001b[0m\u001b[0;34m,\u001b[0m \u001b[0mequivalencies\u001b[0m\u001b[0;34m)\u001b[0m\u001b[0;34m\u001b[0m\u001b[0;34m\u001b[0m\u001b[0m\n\u001b[0m\u001b[1;32m    706\u001b[0m         \u001b[0;32melse\u001b[0m\u001b[0;34m:\u001b[0m\u001b[0;34m\u001b[0m\u001b[0;34m\u001b[0m\u001b[0m\n\u001b[1;32m    707\u001b[0m             \u001b[0;31m# to_value only copies if necessary\u001b[0m\u001b[0;34m\u001b[0m\u001b[0;34m\u001b[0m\u001b[0;34m\u001b[0m\u001b[0m\n",
            "\u001b[0;32m/usr/local/lib/python3.7/dist-packages/astropy/units/quantity.py\u001b[0m in \u001b[0;36m_to_value\u001b[0;34m(self, unit, equivalencies)\u001b[0m\n\u001b[1;32m    668\u001b[0m             \u001b[0mequivalencies\u001b[0m \u001b[0;34m=\u001b[0m \u001b[0mself\u001b[0m\u001b[0;34m.\u001b[0m\u001b[0m_equivalencies\u001b[0m\u001b[0;34m\u001b[0m\u001b[0;34m\u001b[0m\u001b[0m\n\u001b[1;32m    669\u001b[0m         return self.unit.to(unit, self.view(np.ndarray),\n\u001b[0;32m--> 670\u001b[0;31m                             equivalencies=equivalencies)\n\u001b[0m\u001b[1;32m    671\u001b[0m \u001b[0;34m\u001b[0m\u001b[0m\n\u001b[1;32m    672\u001b[0m     \u001b[0;32mdef\u001b[0m \u001b[0mto\u001b[0m\u001b[0;34m(\u001b[0m\u001b[0mself\u001b[0m\u001b[0;34m,\u001b[0m \u001b[0munit\u001b[0m\u001b[0;34m,\u001b[0m \u001b[0mequivalencies\u001b[0m\u001b[0;34m=\u001b[0m\u001b[0;34m[\u001b[0m\u001b[0;34m]\u001b[0m\u001b[0;34m,\u001b[0m \u001b[0mcopy\u001b[0m\u001b[0;34m=\u001b[0m\u001b[0;32mTrue\u001b[0m\u001b[0;34m)\u001b[0m\u001b[0;34m:\u001b[0m\u001b[0;34m\u001b[0m\u001b[0;34m\u001b[0m\u001b[0m\n",
            "\u001b[0;32m/usr/local/lib/python3.7/dist-packages/astropy/units/core.py\u001b[0m in \u001b[0;36mto\u001b[0;34m(self, other, value, equivalencies)\u001b[0m\n\u001b[1;32m   1132\u001b[0m         \u001b[0;32melse\u001b[0m\u001b[0;34m:\u001b[0m\u001b[0;34m\u001b[0m\u001b[0;34m\u001b[0m\u001b[0m\n\u001b[1;32m   1133\u001b[0m             return self._get_converter(Unit(other),\n\u001b[0;32m-> 1134\u001b[0;31m                                        equivalencies=equivalencies)(value)\n\u001b[0m\u001b[1;32m   1135\u001b[0m \u001b[0;34m\u001b[0m\u001b[0m\n\u001b[1;32m   1136\u001b[0m     \u001b[0;32mdef\u001b[0m \u001b[0min_units\u001b[0m\u001b[0;34m(\u001b[0m\u001b[0mself\u001b[0m\u001b[0;34m,\u001b[0m \u001b[0mother\u001b[0m\u001b[0;34m,\u001b[0m \u001b[0mvalue\u001b[0m\u001b[0;34m=\u001b[0m\u001b[0;36m1.0\u001b[0m\u001b[0;34m,\u001b[0m \u001b[0mequivalencies\u001b[0m\u001b[0;34m=\u001b[0m\u001b[0;34m[\u001b[0m\u001b[0;34m]\u001b[0m\u001b[0;34m)\u001b[0m\u001b[0;34m:\u001b[0m\u001b[0;34m\u001b[0m\u001b[0;34m\u001b[0m\u001b[0m\n",
            "\u001b[0;32m/usr/local/lib/python3.7/dist-packages/astropy/units/core.py\u001b[0m in \u001b[0;36m_get_converter\u001b[0;34m(self, other, equivalencies)\u001b[0m\n\u001b[1;32m   1062\u001b[0m                             \u001b[0;32mpass\u001b[0m\u001b[0;34m\u001b[0m\u001b[0;34m\u001b[0m\u001b[0m\n\u001b[1;32m   1063\u001b[0m \u001b[0;34m\u001b[0m\u001b[0m\n\u001b[0;32m-> 1064\u001b[0;31m             \u001b[0;32mraise\u001b[0m \u001b[0mexc\u001b[0m\u001b[0;34m\u001b[0m\u001b[0;34m\u001b[0m\u001b[0m\n\u001b[0m\u001b[1;32m   1065\u001b[0m \u001b[0;34m\u001b[0m\u001b[0m\n\u001b[1;32m   1066\u001b[0m     \u001b[0;32mdef\u001b[0m \u001b[0m_to\u001b[0m\u001b[0;34m(\u001b[0m\u001b[0mself\u001b[0m\u001b[0;34m,\u001b[0m \u001b[0mother\u001b[0m\u001b[0;34m)\u001b[0m\u001b[0;34m:\u001b[0m\u001b[0;34m\u001b[0m\u001b[0;34m\u001b[0m\u001b[0m\n",
            "\u001b[0;32m/usr/local/lib/python3.7/dist-packages/astropy/units/core.py\u001b[0m in \u001b[0;36m_get_converter\u001b[0;34m(self, other, equivalencies)\u001b[0m\n\u001b[1;32m   1048\u001b[0m         \u001b[0;32mtry\u001b[0m\u001b[0;34m:\u001b[0m\u001b[0;34m\u001b[0m\u001b[0;34m\u001b[0m\u001b[0m\n\u001b[1;32m   1049\u001b[0m             return self._apply_equivalencies(\n\u001b[0;32m-> 1050\u001b[0;31m                 self, other, self._normalize_equivalencies(equivalencies))\n\u001b[0m\u001b[1;32m   1051\u001b[0m         \u001b[0;32mexcept\u001b[0m \u001b[0mUnitsError\u001b[0m \u001b[0;32mas\u001b[0m \u001b[0mexc\u001b[0m\u001b[0;34m:\u001b[0m\u001b[0;34m\u001b[0m\u001b[0;34m\u001b[0m\u001b[0m\n\u001b[1;32m   1052\u001b[0m             \u001b[0;31m# Last hope: maybe other knows how to do it?\u001b[0m\u001b[0;34m\u001b[0m\u001b[0;34m\u001b[0m\u001b[0;34m\u001b[0m\u001b[0m\n",
            "\u001b[0;32m/usr/local/lib/python3.7/dist-packages/astropy/units/core.py\u001b[0m in \u001b[0;36m_apply_equivalencies\u001b[0;34m(self, unit, other, equivalencies)\u001b[0m\n\u001b[1;32m   1024\u001b[0m \u001b[0;34m\u001b[0m\u001b[0m\n\u001b[1;32m   1025\u001b[0m         raise UnitConversionError(\n\u001b[0;32m-> 1026\u001b[0;31m             f\"{unit_str} and {other_str} are not convertible\")\n\u001b[0m\u001b[1;32m   1027\u001b[0m \u001b[0;34m\u001b[0m\u001b[0m\n\u001b[1;32m   1028\u001b[0m     \u001b[0;32mdef\u001b[0m \u001b[0m_get_converter\u001b[0m\u001b[0;34m(\u001b[0m\u001b[0mself\u001b[0m\u001b[0;34m,\u001b[0m \u001b[0mother\u001b[0m\u001b[0;34m,\u001b[0m \u001b[0mequivalencies\u001b[0m\u001b[0;34m=\u001b[0m\u001b[0;34m[\u001b[0m\u001b[0;34m]\u001b[0m\u001b[0;34m)\u001b[0m\u001b[0;34m:\u001b[0m\u001b[0;34m\u001b[0m\u001b[0;34m\u001b[0m\u001b[0m\n",
            "\u001b[0;31mUnitConversionError\u001b[0m: 'mm' (length) and 'Hz' (frequency) are not convertible"
          ]
        }
      ],
      "source": [
        "nu13 = lambda13.to(u.Hz)\n",
        "nu18 = lambda18.to(u.Hz)"
      ]
    },
    {
      "cell_type": "markdown",
      "metadata": {
        "id": "2az_CeStPRN7"
      },
      "source": [
        "Felizmente, o `astropy` vem em socorro ao fornecer um recurso chamado \"equivalências de unidades\". As equivalências fornecem uma maneira de converter entre duas unidades fisicamente diferentes que normalmente não são equivalentes, mas em um determinado contexto têm um mapeamento de um para um. Para mais informações sobre equivalências, veja a [seção de equivalências da documentação do astropy](http://docs.astropy.org/en/stable/units/equivalencies.html).\n",
        "\n",
        "Neste caso, chamar a função ``astropy.units.spectral()`` fornece as equivalências necessárias para lidar com conversões entre comprimento de onda e frequência. Para usá-lo, forneça as equivalências para a palavra-chave `equivalências` da chamada ``to()``:"
      ]
    },
    {
      "cell_type": "code",
      "execution_count": 28,
      "metadata": {
        "id": "ZIDszfoxPRN7"
      },
      "outputs": [],
      "source": [
        "nu13 = lambda13.to(u.Hz, equivalencies=u.spectral())\n",
        "nu18 = lambda18.to(u.Hz, equivalencies=u.spectral())"
      ]
    },
    {
      "cell_type": "markdown",
      "metadata": {
        "id": "U2pKMeBlPRN7"
      },
      "source": [
        "Em seguida, procuramos os coeficientes de Einstein (em unidades de s$^{-1}$) e calculamos as razões na constante $C$. Observe como as razões de frequência e as unidades do coeficiente de Einstein são adimensionais, de modo que a unidade de $C$ permanece inalterada."
      ]
    },
    {
      "cell_type": "code",
      "execution_count": 29,
      "metadata": {
        "id": "pCgwfW9qPRN7",
        "colab": {
          "base_uri": "https://localhost:8080/",
          "height": 38
        },
        "outputId": "0bfd3af7-e80e-4397-82b1-4ba3a4b07452"
      },
      "outputs": [
        {
          "output_type": "execute_result",
          "data": {
            "text/latex": "$2.1792458 \\times 10^{14} \\; \\mathrm{\\frac{s}{K\\,km\\,cm^{2}}}$",
            "text/plain": [
              "<Quantity 2.17924582e+14 s / (cm2 K km)>"
            ]
          },
          "metadata": {},
          "execution_count": 29
        }
      ],
      "source": [
        "nu13 = 115271096910.13396 * u.Hz\n",
        "nu18 = 109782318669.689 * u.Hz\n",
        "A13 = 7.4e-8 / u.s\n",
        "A18 = 8.8e-8 / u.s\n",
        "\n",
        "C = 3e14 * (nu18/nu13)**3 * (A13/A18) / (u.K * u.cm**2 * u.km *(1/u.s))\n",
        "C"
      ]
    },
    {
      "cell_type": "markdown",
      "metadata": {
        "id": "1xphipmxPRN8"
      },
      "source": [
        "Agora vamos para calcular a constante $B$. Isso é dado pela razão de $\\frac{h\\nu}{k_B T}$, onde $h$ é a constante de Planck, $k_B$ é a constante de Boltzmann, $\\nu$ é a frequência de emissão e $T$ é a temperatura de excitação. As constantes foram importadas de `astropy.constants`, e os outros dois valores já estão calculados, então aqui nós apenas pegamos a razão."
      ]
    },
    {
      "cell_type": "code",
      "execution_count": 30,
      "metadata": {
        "id": "EvBeJrA3PRN8"
      },
      "outputs": [],
      "source": [
        "B = h * nu18 / (k_B * Tex)"
      ]
    },
    {
      "cell_type": "markdown",
      "metadata": {
        "id": "fYYPGM2KPRN8"
      },
      "source": [
        "As unidades de $B$ são Hz s, que podem ser decompostas em uma unidade adimensional se você realmente se importa com seu valor. Normalmente, isso não é necessário. As quantidades são melhores se você usá-las sem se preocupar com unidades intermediárias e só converter no final quando quiser uma resposta final."
      ]
    },
    {
      "cell_type": "code",
      "execution_count": 31,
      "metadata": {
        "id": "LkP0Im3JPRN8",
        "colab": {
          "base_uri": "https://localhost:8080/"
        },
        "outputId": "458d8e9d-5fd3-4164-a06a-3f125b652231"
      },
      "outputs": [
        {
          "output_type": "stream",
          "name": "stdout",
          "text": [
            "0.21074881298143522 Hz s\n",
            "0.21074881298143522\n"
          ]
        }
      ],
      "source": [
        "print('{0}\\n{1}'.format(B, B.decompose()))"
      ]
    },
    {
      "cell_type": "markdown",
      "metadata": {
        "id": "U1JtmrBQPRN8"
      },
      "source": [
        "Neste ponto, temos todos os ingredientes para calcular a densidade numérica das moléculas de $\\rm CO$ nesta nuvem. Já integramos (somamos) os canais de velocidade acima para mostrar o mapa de intensidade integrado, mas faremos novamente aqui para maior clareza. Isso nos dá a densidade da coluna de CO para cada pixel espacial em nosso mapa. Podemos então imprimir a densidade da coluna da coluna de pico."
      ]
    },
    {
      "cell_type": "code",
      "execution_count": 32,
      "metadata": {
        "id": "iaSEKl-tPRN9",
        "colab": {
          "base_uri": "https://localhost:8080/",
          "height": 55
        },
        "outputId": "cd3613b8-35da-458d-b91c-7542361103e5"
      },
      "outputs": [
        {
          "output_type": "stream",
          "name": "stdout",
          "text": [
            "Pico da densidade da coluna de CO: \n"
          ]
        },
        {
          "output_type": "execute_result",
          "data": {
            "text/latex": "$8.5782091 \\times 10^{15} \\; \\mathrm{\\frac{1}{cm^{2}}}$",
            "text/plain": [
              "<Quantity 8.5782091e+15 1 / cm2>"
            ]
          },
          "metadata": {},
          "execution_count": 32
        }
      ],
      "source": [
        "NCO = C * np.sum(data*dv, axis=2) / (1 - np.exp(-B))\n",
        "print(\"Pico da densidade da coluna de CO: \")\n",
        "np.max(NCO)"
      ]
    },
    {
      "cell_type": "markdown",
      "metadata": {
        "id": "SzyhpyNTPRN9"
      },
      "source": [
        "#### CO para Massa Total"
      ]
    },
    {
      "cell_type": "markdown",
      "metadata": {
        "id": "SXymJS1qPRN9"
      },
      "source": [
        "Estamos usando o CO como rastreador para os muito mais numerosos H$_2$, a quantidade que estamos tentando inferir. Como a maior parte da massa está em H$_2$, calculamos a densidade da coluna multiplicando a densidade da coluna CO pela razão H$_2$/CO (conhecida/assumida)."
      ]
    },
    {
      "cell_type": "code",
      "execution_count": 33,
      "metadata": {
        "id": "il-sBcRyPRN9",
        "colab": {
          "base_uri": "https://localhost:8080/",
          "height": 55
        },
        "outputId": "992f5f42-5899-4176-e215-b2d71b878b47"
      },
      "outputs": [
        {
          "output_type": "stream",
          "name": "stdout",
          "text": [
            "Pico da densidade da coluna de H2: \n"
          ]
        },
        {
          "output_type": "execute_result",
          "data": {
            "text/latex": "$5.0611434 \\times 10^{22} \\; \\mathrm{\\frac{1}{cm^{2}}}$",
            "text/plain": [
              "<Quantity 5.06114337e+22 1 / cm2>"
            ]
          },
          "metadata": {},
          "execution_count": 33
        }
      ],
      "source": [
        "H2_CO_ratio = 5.9e6\n",
        "NH2 = NCO * H2_CO_ratio\n",
        "print(\"Pico da densidade da coluna de H2: \")\n",
        "np.max(NH2)"
      ]
    },
    {
      "cell_type": "markdown",
      "metadata": {
        "id": "EBCl4dxmPRN9"
      },
      "source": [
        "Essa é uma densidade de coluna de pico de aproximadamente 50 magnitudes de extinção visual (assumindo a conversão entre N$_{\\rm H_2}$ e A$_V$ de Bohlin et al. 1978), o que parece razoável para uma nuvem molecular."
      ]
    },
    {
      "cell_type": "markdown",
      "metadata": {
        "id": "Sdqg9q2VPRN-"
      },
      "source": [
        "Obtemos a densidade de massa da coluna multiplicando a densidade numérica da coluna pela massa de uma molécula H$_2$ individual."
      ]
    },
    {
      "cell_type": "code",
      "execution_count": 34,
      "metadata": {
        "id": "EQTmpg2FPRN-"
      },
      "outputs": [],
      "source": [
        "mH2 = 2 * 1.008 * u.Dalton  #massa atomica unit/amu\n",
        "rho = NH2 * mH2"
      ]
    },
    {
      "cell_type": "markdown",
      "metadata": {
        "id": "YkwUqht_PRN-"
      },
      "source": [
        "Um passo final para passar da densidade da coluna para a massa é somar a área da área. Se fizermos isso da maneira direta (comprimento x largura de um pixel), essa área estará em unidades de ${\\rm deg}^2$."
      ]
    },
    {
      "cell_type": "code",
      "execution_count": 35,
      "metadata": {
        "id": "JiIWHDLwPRN-",
        "colab": {
          "base_uri": "https://localhost:8080/"
        },
        "outputId": "a15ce599-fb53-4820-ebc4-52f2e46f5643"
      },
      "outputs": [
        {
          "output_type": "stream",
          "name": "stdout",
          "text": [
            "2.5e-05 deg2\n"
          ]
        }
      ],
      "source": [
        "dap = dra * ddec\n",
        "print(dap)"
      ]
    },
    {
      "cell_type": "markdown",
      "metadata": {
        "id": "5rkNMfcCPRN-"
      },
      "source": [
        "Agora vem uma sutileza importante: na aproximação de pequenos ângulos, multiplicar a área do pixel pelo quadrado da distância resulta na área da seção transversal da nuvem que o pixel cobre, em unidades *físicas*, em vez de unidades angulares. Portanto, é tentador apenas multiplicar a área e o quadrado da distância."
      ]
    },
    {
      "cell_type": "code",
      "execution_count": 36,
      "metadata": {
        "id": "AeMRbYPwPRN_",
        "colab": {
          "base_uri": "https://localhost:8080/"
        },
        "outputId": "72516a45-accd-4240-d1cb-74245e9ab6d5"
      },
      "outputs": [
        {
          "output_type": "stream",
          "name": "stdout",
          "text": [
            "1.5625 deg2 pc2\n"
          ]
        }
      ],
      "source": [
        "da = dap * d**2  #não faça isso dessa maneira - use a versão abaixo!\n",
        "print(da)"
      ]
    },
    {
      "cell_type": "code",
      "execution_count": 37,
      "metadata": {
        "id": "4YIFKq0KPRN_",
        "colab": {
          "base_uri": "https://localhost:8080/",
          "height": 37
        },
        "outputId": "91576eb9-1460-4af9-ab80-5fa6a32a1f8c"
      },
      "outputs": [
        {
          "output_type": "execute_result",
          "data": {
            "text/latex": "$0.00047596472 \\; \\mathrm{pc^{2}}$",
            "text/plain": [
              "<Quantity 0.00047596 pc2>"
            ]
          },
          "metadata": {},
          "execution_count": 37
        }
      ],
      "source": [
        "dap.to(u.steradian).value * d**2"
      ]
    },
    {
      "cell_type": "markdown",
      "metadata": {
        "id": "FQGw6qvVPRN_"
      },
      "source": [
        "Mas isso é **errado**, porque `astropy.units` trata os ângulos (e ângulos sólidos) como unidades físicas reais, enquanto a aproximação de ângulos pequenos assume que os ângulos não têm dimensão. Portanto, se você, por exemplo, tentar converter para uma unidade de área diferente, falhará:"
      ]
    },
    {
      "cell_type": "code",
      "execution_count": 38,
      "metadata": {
        "tags": [
          "raises-exception"
        ],
        "id": "Tn3eSm3cPRN_",
        "colab": {
          "base_uri": "https://localhost:8080/",
          "height": 303
        },
        "outputId": "8f8ff7b4-9b48-47f4-caff-c49c483ca444"
      },
      "outputs": [
        {
          "output_type": "error",
          "ename": "UnitConversionError",
          "evalue": "ignored",
          "traceback": [
            "\u001b[0;31m---------------------------------------------------------------------------\u001b[0m",
            "\u001b[0;31mUnitConversionError\u001b[0m                       Traceback (most recent call last)",
            "\u001b[0;32m<ipython-input-38-a7ea5a2a0bb2>\u001b[0m in \u001b[0;36m<module>\u001b[0;34m()\u001b[0m\n\u001b[0;32m----> 1\u001b[0;31m \u001b[0mda\u001b[0m\u001b[0;34m.\u001b[0m\u001b[0mto\u001b[0m\u001b[0;34m(\u001b[0m\u001b[0mu\u001b[0m\u001b[0;34m.\u001b[0m\u001b[0mcm\u001b[0m\u001b[0;34m**\u001b[0m\u001b[0;36m2\u001b[0m\u001b[0;34m)\u001b[0m\u001b[0;34m\u001b[0m\u001b[0;34m\u001b[0m\u001b[0m\n\u001b[0m",
            "\u001b[0;32m/usr/local/lib/python3.7/dist-packages/astropy/units/quantity.py\u001b[0m in \u001b[0;36mto\u001b[0;34m(self, unit, equivalencies, copy)\u001b[0m\n\u001b[1;32m    703\u001b[0m             \u001b[0;31m# Avoid using to_value to ensure that we make a copy. We also\u001b[0m\u001b[0;34m\u001b[0m\u001b[0;34m\u001b[0m\u001b[0;34m\u001b[0m\u001b[0m\n\u001b[1;32m    704\u001b[0m             \u001b[0;31m# don't want to slow down this method (esp. the scalar case).\u001b[0m\u001b[0;34m\u001b[0m\u001b[0;34m\u001b[0m\u001b[0;34m\u001b[0m\u001b[0m\n\u001b[0;32m--> 705\u001b[0;31m             \u001b[0mvalue\u001b[0m \u001b[0;34m=\u001b[0m \u001b[0mself\u001b[0m\u001b[0;34m.\u001b[0m\u001b[0m_to_value\u001b[0m\u001b[0;34m(\u001b[0m\u001b[0munit\u001b[0m\u001b[0;34m,\u001b[0m \u001b[0mequivalencies\u001b[0m\u001b[0;34m)\u001b[0m\u001b[0;34m\u001b[0m\u001b[0;34m\u001b[0m\u001b[0m\n\u001b[0m\u001b[1;32m    706\u001b[0m         \u001b[0;32melse\u001b[0m\u001b[0;34m:\u001b[0m\u001b[0;34m\u001b[0m\u001b[0;34m\u001b[0m\u001b[0m\n\u001b[1;32m    707\u001b[0m             \u001b[0;31m# to_value only copies if necessary\u001b[0m\u001b[0;34m\u001b[0m\u001b[0;34m\u001b[0m\u001b[0;34m\u001b[0m\u001b[0m\n",
            "\u001b[0;32m/usr/local/lib/python3.7/dist-packages/astropy/units/quantity.py\u001b[0m in \u001b[0;36m_to_value\u001b[0;34m(self, unit, equivalencies)\u001b[0m\n\u001b[1;32m    668\u001b[0m             \u001b[0mequivalencies\u001b[0m \u001b[0;34m=\u001b[0m \u001b[0mself\u001b[0m\u001b[0;34m.\u001b[0m\u001b[0m_equivalencies\u001b[0m\u001b[0;34m\u001b[0m\u001b[0;34m\u001b[0m\u001b[0m\n\u001b[1;32m    669\u001b[0m         return self.unit.to(unit, self.view(np.ndarray),\n\u001b[0;32m--> 670\u001b[0;31m                             equivalencies=equivalencies)\n\u001b[0m\u001b[1;32m    671\u001b[0m \u001b[0;34m\u001b[0m\u001b[0m\n\u001b[1;32m    672\u001b[0m     \u001b[0;32mdef\u001b[0m \u001b[0mto\u001b[0m\u001b[0;34m(\u001b[0m\u001b[0mself\u001b[0m\u001b[0;34m,\u001b[0m \u001b[0munit\u001b[0m\u001b[0;34m,\u001b[0m \u001b[0mequivalencies\u001b[0m\u001b[0;34m=\u001b[0m\u001b[0;34m[\u001b[0m\u001b[0;34m]\u001b[0m\u001b[0;34m,\u001b[0m \u001b[0mcopy\u001b[0m\u001b[0;34m=\u001b[0m\u001b[0;32mTrue\u001b[0m\u001b[0;34m)\u001b[0m\u001b[0;34m:\u001b[0m\u001b[0;34m\u001b[0m\u001b[0;34m\u001b[0m\u001b[0m\n",
            "\u001b[0;32m/usr/local/lib/python3.7/dist-packages/astropy/units/core.py\u001b[0m in \u001b[0;36mto\u001b[0;34m(self, other, value, equivalencies)\u001b[0m\n\u001b[1;32m   1132\u001b[0m         \u001b[0;32melse\u001b[0m\u001b[0;34m:\u001b[0m\u001b[0;34m\u001b[0m\u001b[0;34m\u001b[0m\u001b[0m\n\u001b[1;32m   1133\u001b[0m             return self._get_converter(Unit(other),\n\u001b[0;32m-> 1134\u001b[0;31m                                        equivalencies=equivalencies)(value)\n\u001b[0m\u001b[1;32m   1135\u001b[0m \u001b[0;34m\u001b[0m\u001b[0m\n\u001b[1;32m   1136\u001b[0m     \u001b[0;32mdef\u001b[0m \u001b[0min_units\u001b[0m\u001b[0;34m(\u001b[0m\u001b[0mself\u001b[0m\u001b[0;34m,\u001b[0m \u001b[0mother\u001b[0m\u001b[0;34m,\u001b[0m \u001b[0mvalue\u001b[0m\u001b[0;34m=\u001b[0m\u001b[0;36m1.0\u001b[0m\u001b[0;34m,\u001b[0m \u001b[0mequivalencies\u001b[0m\u001b[0;34m=\u001b[0m\u001b[0;34m[\u001b[0m\u001b[0;34m]\u001b[0m\u001b[0;34m)\u001b[0m\u001b[0;34m:\u001b[0m\u001b[0;34m\u001b[0m\u001b[0;34m\u001b[0m\u001b[0m\n",
            "\u001b[0;32m/usr/local/lib/python3.7/dist-packages/astropy/units/core.py\u001b[0m in \u001b[0;36m_get_converter\u001b[0;34m(self, other, equivalencies)\u001b[0m\n\u001b[1;32m   1062\u001b[0m                             \u001b[0;32mpass\u001b[0m\u001b[0;34m\u001b[0m\u001b[0;34m\u001b[0m\u001b[0m\n\u001b[1;32m   1063\u001b[0m \u001b[0;34m\u001b[0m\u001b[0m\n\u001b[0;32m-> 1064\u001b[0;31m             \u001b[0;32mraise\u001b[0m \u001b[0mexc\u001b[0m\u001b[0;34m\u001b[0m\u001b[0;34m\u001b[0m\u001b[0m\n\u001b[0m\u001b[1;32m   1065\u001b[0m \u001b[0;34m\u001b[0m\u001b[0m\n\u001b[1;32m   1066\u001b[0m     \u001b[0;32mdef\u001b[0m \u001b[0m_to\u001b[0m\u001b[0;34m(\u001b[0m\u001b[0mself\u001b[0m\u001b[0;34m,\u001b[0m \u001b[0mother\u001b[0m\u001b[0;34m)\u001b[0m\u001b[0;34m:\u001b[0m\u001b[0;34m\u001b[0m\u001b[0;34m\u001b[0m\u001b[0m\n",
            "\u001b[0;32m/usr/local/lib/python3.7/dist-packages/astropy/units/core.py\u001b[0m in \u001b[0;36m_get_converter\u001b[0;34m(self, other, equivalencies)\u001b[0m\n\u001b[1;32m   1048\u001b[0m         \u001b[0;32mtry\u001b[0m\u001b[0;34m:\u001b[0m\u001b[0;34m\u001b[0m\u001b[0;34m\u001b[0m\u001b[0m\n\u001b[1;32m   1049\u001b[0m             return self._apply_equivalencies(\n\u001b[0;32m-> 1050\u001b[0;31m                 self, other, self._normalize_equivalencies(equivalencies))\n\u001b[0m\u001b[1;32m   1051\u001b[0m         \u001b[0;32mexcept\u001b[0m \u001b[0mUnitsError\u001b[0m \u001b[0;32mas\u001b[0m \u001b[0mexc\u001b[0m\u001b[0;34m:\u001b[0m\u001b[0;34m\u001b[0m\u001b[0;34m\u001b[0m\u001b[0m\n\u001b[1;32m   1052\u001b[0m             \u001b[0;31m# Last hope: maybe other knows how to do it?\u001b[0m\u001b[0;34m\u001b[0m\u001b[0;34m\u001b[0m\u001b[0;34m\u001b[0m\u001b[0m\n",
            "\u001b[0;32m/usr/local/lib/python3.7/dist-packages/astropy/units/core.py\u001b[0m in \u001b[0;36m_apply_equivalencies\u001b[0;34m(self, unit, other, equivalencies)\u001b[0m\n\u001b[1;32m   1024\u001b[0m \u001b[0;34m\u001b[0m\u001b[0m\n\u001b[1;32m   1025\u001b[0m         raise UnitConversionError(\n\u001b[0;32m-> 1026\u001b[0;31m             f\"{unit_str} and {other_str} are not convertible\")\n\u001b[0m\u001b[1;32m   1027\u001b[0m \u001b[0;34m\u001b[0m\u001b[0m\n\u001b[1;32m   1028\u001b[0m     \u001b[0;32mdef\u001b[0m \u001b[0m_get_converter\u001b[0m\u001b[0;34m(\u001b[0m\u001b[0mself\u001b[0m\u001b[0;34m,\u001b[0m \u001b[0mother\u001b[0m\u001b[0;34m,\u001b[0m \u001b[0mequivalencies\u001b[0m\u001b[0;34m=\u001b[0m\u001b[0;34m[\u001b[0m\u001b[0;34m]\u001b[0m\u001b[0;34m)\u001b[0m\u001b[0;34m:\u001b[0m\u001b[0;34m\u001b[0m\u001b[0;34m\u001b[0m\u001b[0m\n",
            "\u001b[0;31mUnitConversionError\u001b[0m: 'deg2 pc2' and 'cm2' (area) are not convertible"
          ]
        }
      ],
      "source": [
        "da.to(u.cm**2)"
      ]
    },
    {
      "cell_type": "markdown",
      "metadata": {
        "id": "Hc1J3mo8PROA"
      },
      "source": [
        "A solução é usar a equivalência `dimensionless_angles()`, que permite que os ângulos sejam tratados como adimensionais. Isso faz com que eles sejam convertidos automaticamente para radianos e se tornem adimensionais quando uma conversão for necessária."
      ]
    },
    {
      "cell_type": "code",
      "execution_count": 39,
      "metadata": {
        "id": "t0i6jux6PROA",
        "colab": {
          "base_uri": "https://localhost:8080/",
          "height": 37
        },
        "outputId": "8d63d090-59a5-432f-f6f0-b92d70110106"
      },
      "outputs": [
        {
          "output_type": "execute_result",
          "data": {
            "text/latex": "$0.00047596472 \\; \\mathrm{pc^{2}}$",
            "text/plain": [
              "<Quantity 0.00047596 pc2>"
            ]
          },
          "metadata": {},
          "execution_count": 39
        }
      ],
      "source": [
        "da = (dap * d**2).to(u.pc**2, equivalencies=u.dimensionless_angles())\n",
        "da"
      ]
    },
    {
      "cell_type": "code",
      "execution_count": 40,
      "metadata": {
        "id": "HDQSwBNGPROA",
        "colab": {
          "base_uri": "https://localhost:8080/",
          "height": 37
        },
        "outputId": "d3e5589b-cbf5-46cb-aa64-722dcdbc4919"
      },
      "outputs": [
        {
          "output_type": "execute_result",
          "data": {
            "text/latex": "$4.5318534 \\times 10^{33} \\; \\mathrm{cm^{2}}$",
            "text/plain": [
              "<Quantity 4.53185339e+33 cm2>"
            ]
          },
          "metadata": {},
          "execution_count": 40
        }
      ],
      "source": [
        "da.to(u.cm**2)"
      ]
    },
    {
      "cell_type": "markdown",
      "metadata": {
        "id": "vTSPZhPoPROA"
      },
      "source": [
        "Finalmente, multiplicando a densidade da coluna pela área do pixel e somando todos os pixels, temos a massa da nuvem."
      ]
    },
    {
      "cell_type": "code",
      "execution_count": 41,
      "metadata": {
        "id": "MsCxwJXsPROA",
        "colab": {
          "base_uri": "https://localhost:8080/",
          "height": 37
        },
        "outputId": "b62bc55d-14c1-4539-ea93-dfd3fc4183b2"
      },
      "outputs": [
        {
          "output_type": "execute_result",
          "data": {
            "text/latex": "$317.64843 \\; \\mathrm{M_{\\odot}}$",
            "text/plain": [
              "<Quantity 317.64843091 solMass>"
            ]
          },
          "metadata": {},
          "execution_count": 41
        }
      ],
      "source": [
        "M = np.sum(rho * da)\n",
        "M.decompose().to(u.solMass)"
      ]
    },
    {
      "cell_type": "markdown",
      "metadata": {
        "id": "VA54vEfAPROB"
      },
      "source": [
        "## Exercícios"
      ]
    },
    {
      "cell_type": "markdown",
      "metadata": {
        "id": "XQ-bpl5FPROB"
      },
      "source": [
        "O conteúdo astronômico era bem pesado naquele outro exercício, então vamos focar em algumas estatísticas associadas usando os recursos de array do `Quantity`. Calcule a mediana e a média dos `data` com as funções ``np.mean()`` e ``np.median()``. Por que seus valores são tão diferentes?"
      ]
    },
    {
      "cell_type": "code",
      "execution_count": 41,
      "metadata": {
        "id": "WT9QcC4DPROB"
      },
      "outputs": [],
      "source": [
        ""
      ]
    },
    {
      "cell_type": "markdown",
      "metadata": {
        "id": "jzohK1eqPROB"
      },
      "source": [
        "Da mesma forma, calcule o desvio padrão e a variância (se você não conhece as funções relevantes, procure nos documentos numpy ou apenas digite np.<tab> e uma célula de código). Eles têm as unidades que você espera?"
      ]
    },
    {
      "cell_type": "code",
      "execution_count": 41,
      "metadata": {
        "id": "CkP3II-vPROB"
      },
      "outputs": [],
      "source": [
        ""
      ]
    },
    {
      "cell_type": "markdown",
      "metadata": {
        "id": "ccYqfoF6PROB"
      },
      "source": [
        "## 3. Usando quantidades com funções"
      ]
    },
    {
      "cell_type": "markdown",
      "metadata": {
        "id": "Aa0tUozgPROC"
      },
      "source": [
        "`Quantity` também é uma ferramenta útil se você planeja compartilhar parte do seu código, seja com colaboradores ou com a comunidade em geral. Ao escrever funções que recebem objetos `Quantity` em vez de números brutos ou matrizes, você pode escrever um código independente da unidade de entrada. Dessa forma, você pode até evitar [a destruição de orbitadores de Marte](http://en.wikipedia.org/wiki/Mars_Climate_Orbiter#Cause_of_failure). Abaixo, fornecemos um exemplo simples."
      ]
    },
    {
      "cell_type": "markdown",
      "metadata": {
        "id": "u_iyyDtqPROC"
      },
      "source": [
        "Suponha que você esteja trabalhando em um instrumento e a pessoa que o financia solicite uma função para fornecer uma estimativa analítica da função resposta. Você determina a partir de alguns testes que é basicamente um Lorentziano, mas com uma escala diferente ao longo dos dois eixos. Seu primeiro pensamento pode ser fazer isso:"
      ]
    },
    {
      "cell_type": "code",
      "execution_count": 42,
      "metadata": {
        "id": "UZLixSK_PROC"
      },
      "outputs": [],
      "source": [
        "def response_func(xinarcsec, yinarcsec):\n",
        "    xscale = 0.9\n",
        "    yscale = 0.85\n",
        "    xfactor = 1 / (1 + xinarcsec/xscale)\n",
        "    yfactor = 1 / (1 + yinarcsec/yscale)\n",
        "    \n",
        "    return xfactor * yfactor"
      ]
    },
    {
      "cell_type": "markdown",
      "metadata": {
        "id": "VSopE-wZPROC"
      },
      "source": [
        "Você queria que as entradas estivessem em arcsec, mas, infelizmente, você envia isso para seu colaborador e eles não olham de perto e acham que as entradas deveriam estar em arcmin. Então eles fazem:"
      ]
    },
    {
      "cell_type": "code",
      "execution_count": 43,
      "metadata": {
        "id": "CFELyRs6PROD",
        "colab": {
          "base_uri": "https://localhost:8080/"
        },
        "outputId": "df78e82b-70bb-4bb6-9d61-1050ecc0a4d7"
      },
      "outputs": [
        {
          "output_type": "execute_result",
          "data": {
            "text/plain": [
              "0.19640564826700893"
            ]
          },
          "metadata": {},
          "execution_count": 43
        }
      ],
      "source": [
        "response_func(1.0, 1.2)"
      ]
    },
    {
      "cell_type": "markdown",
      "metadata": {
        "id": "ODw8BThlPROD"
      },
      "source": [
        "E agora eles dizem a todos os seus amigos o quão terrível é o instrumento, porque deveria ter uma resolução de segundo de arco, mas sua função mostra claramente que só pode resolver um arcmin na melhor das hipóteses. Mas você pode resolver isso exigindo que eles passem objetos `Quantity`. A nova função poderia ser simplesmente:"
      ]
    },
    {
      "cell_type": "code",
      "execution_count": 44,
      "metadata": {
        "id": "QR7-fwCcPROD"
      },
      "outputs": [],
      "source": [
        "def response_func(x, y):\n",
        "    xscale = 0.9 * u.arcsec\n",
        "    yscale = 0.85 * u.arcsec\n",
        "    xfactor = 1 / (1 + x/xscale)\n",
        "    yfactor = 1 / (1 + y/yscale)\n",
        "    \n",
        "    return xfactor * yfactor"
      ]
    },
    {
      "cell_type": "markdown",
      "metadata": {
        "id": "x_8dJ2OTPROD"
      },
      "source": [
        "E seu colaborador agora tem que prestar atenção. Se eles apenas colocarem um número às cegas, receberão um erro:"
      ]
    },
    {
      "cell_type": "code",
      "execution_count": null,
      "metadata": {
        "tags": [
          "raises-exception"
        ],
        "id": "yiHlNP9oPROE"
      },
      "outputs": [],
      "source": [
        "response_func(1.0, 1.2)"
      ]
    },
    {
      "cell_type": "markdown",
      "metadata": {
        "id": "9W0AnLcsPROE"
      },
      "source": [
        "Qual é a sugestão deles para fornecer as unidades explicitamente:"
      ]
    },
    {
      "cell_type": "code",
      "execution_count": 46,
      "metadata": {
        "id": "nJUWKMPYPROE",
        "colab": {
          "base_uri": "https://localhost:8080/",
          "height": 37
        },
        "outputId": "c488acfa-453d-4dd0-bafc-c2f27ae57cb2"
      },
      "outputs": [
        {
          "output_type": "execute_result",
          "data": {
            "text/latex": "$0.0001724307 \\; \\mathrm{}$",
            "text/plain": [
              "<Quantity 0.00017243>"
            ]
          },
          "metadata": {},
          "execution_count": 46
        }
      ],
      "source": [
        "response_func(1.0*u.arcmin, 1.2*u.arcmin)"
      ]
    },
    {
      "cell_type": "markdown",
      "metadata": {
        "id": "e4oWCjb4PROE"
      },
      "source": [
        "A agência financiadora fica impressionada com a resolução que você alcançou e seu instrumento está salvo! Você agora ganha o Prêmio Nobel devido às descobertas que o instrumento faz. E foi tudo porque você usou `Quantity` como a entrada do código que você compartilhou."
      ]
    },
    {
      "cell_type": "markdown",
      "metadata": {
        "id": "XUgAJOP4PROE"
      },
      "source": [
        "## Exercício"
      ]
    },
    {
      "cell_type": "markdown",
      "metadata": {
        "id": "iVGTlnOuPROF"
      },
      "source": [
        "Escreva uma função que calcule a velocidade Kepleriana que você calculou na seção 1 (usando entradas e saídas `Quantity`, é claro), mas permitindo uma massa e um raio orbital arbitrários. Experimente com alguns números razoáveis ​​para satélites orbitando a Terra, uma lua de Júpiter ou um planeta extra-solar. Sinta-se à vontade para usar a wikipedia ou similar para as massas e distâncias."
      ]
    },
    {
      "cell_type": "code",
      "execution_count": null,
      "metadata": {
        "id": "cHcZmderPROF"
      },
      "outputs": [],
      "source": [
        ""
      ]
    }
  ],
  "metadata": {
    "astropy-tutorials": {
      "author": "Ana Bonaca <ana.bonaca@yale.edu>, Erik Tollerud <erik.tollerud@yale.edu>, Jonathan Foster <jonathan.b.foster@yale.edu>",
      "date": "April 2014",
      "description": "Demonstrates use of the astropy.units, astropy.constants, and the Quantity object for calculating the mass of a galaxy from its velocity dispersion and determining masses of molecular clouds from CO intensity maps. Includes use of matplotlib for making a histogram and an image with a colorbar. Also includes good practices for using quantities in functions you might distribute to other people.",
      "link_name": "Using Astropy Quantities for astrophysical calculations",
      "name": "",
      "published": true
    },
    "language_info": {
      "name": "python"
    },
    "colab": {
      "name": "quantities.ipynb",
      "provenance": [],
      "include_colab_link": true
    },
    "kernelspec": {
      "name": "python3",
      "display_name": "Python 3"
    }
  },
  "nbformat": 4,
  "nbformat_minor": 0
}