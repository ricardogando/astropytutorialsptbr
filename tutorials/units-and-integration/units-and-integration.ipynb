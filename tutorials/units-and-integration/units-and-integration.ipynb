{
  "cells": [
    {
      "cell_type": "markdown",
      "metadata": {
        "id": "WIVPH0GmXNbD"
      },
      "source": [
        "# Usando `scipy.integrate`\n",
        "\n",
        "## Autores\n",
        "Zach Pace, Lia Corrales, Stephanie T. Douglas\n",
        "\n",
        "## Tradução\n",
        "\n",
        "Luciano Cordeiro\n",
        "\n",
        "## Objetivo do aprendizado\n",
        "* realizar integração numérica no contexto `astropy` e científico python\n",
        " * aproximação trapezoidal\n",
        " * quadratura gaussiana\n",
        "* usar as curvas de corpo negro embutidas do `astropy`\n",
        "* entender como as unidades do `astropy` interagem umas com as outras\n",
        "* definir uma classe Python\n",
        " * como funciona o método `__call__`\n",
        "* adicionar rótulos $\\LaTeX$ em figuras `matplotlib` usuando o formatador `latex_inline` \n",
        "\n",
        "## Palavras-chaves \n",
        "modelagem, unidades, synphot, OOP, LaTeX, astroestatística, matplotlib, física\n",
        "\n",
        "## Conteúdo complementar\n",
        "* http://synphot.readthedocs.io/en/latest/\n",
        "* [Using Astropy Quantities for astrophysical calculations](http://www.astropy.org/astropy-tutorials/rst-tutorials/quantities.html)\n",
        "\n",
        "## Sumário\n",
        "Neste tutorial, usaremos os exemplos da função de Planck e da função de massa inicial estelar (IMF) para ilustrar como integrar numericamente, usando a aproximação trapezoidal e a quadratura gaussiana.  Também exploraremos a criação de uma classe personalizada, cuja instância pode ser chamada da mesma maneira que uma função.  Além disso, encontraremos as unidades integradas do astropy e teremos uma primeira amostra de como converter entre elas.  Finalmente, usaremos o $\\LaTeX$ para facilitar a leitura dos rótulos dos eixos das figuras."
      ]
    },
    {
      "cell_type": "code",
      "execution_count": 10,
      "metadata": {
        "id": "RAdawwnRXNbH"
      },
      "outputs": [],
      "source": [
        "import numpy as np\n",
        "from scipy import integrate\n",
        "from astropy.modeling.models import BlackBody\n",
        "from astropy import units as u, constants as c\n",
        "import matplotlib.pyplot as plt\n",
        "\n",
        "%matplotlib inline"
      ]
    },
    {
      "cell_type": "markdown",
      "metadata": {
        "id": "OhPAWSAlXNbJ"
      },
      "source": [
        "## A função de Planck\n",
        "\n",
        "A função de Planck descreve como um corpo negro irradia energia.  Vamos explorar como encontrar a luminosidade bolométrica usando a função de Planck tanto no espaço de frequência quanto no espaço de comprimento de onda.  "
      ]
    },
    {
      "cell_type": "markdown",
      "metadata": {
        "id": "aqXb3VB3XNbJ"
      },
      "source": [
        "Digamos que temos um corpo negro a 5000 Kelvin.  Podemos descobrir a intensidade total (bolométrica) deste objeto, integrando a função de Planck. \n",
        "A maneira mais simples de fazer isso é aproximar a integral usando a regra do trapézio.\n",
        "\n",
        "Vamos fazer isso primeiro usando a definição de frequência da função de Planck. Vamos definir uma grade de frequência de fótons e avaliar a função de Planck nessas frequências.  \n",
        " \n",
        "Esses serão usados ​​para integrar numericamente usando a regra trapezoidal.  Ao multiplicar uma matriz `numpy` por uma unidade `astropy`, obtemos uma `quantidade`, que é efetivamente uma combinação de um ou mais números e uma unidade."
      ]
    },
    {
      "cell_type": "markdown",
      "metadata": {
        "id": "j07CMpw6XNbK"
      },
      "source": [
        "<div class=\"alert alert-info\">\n",
        "**Nota sobre unidades de impressão**: \n",
        "\n",
        "Quantidades e unidades podem ser impressas em strings usando [Format String Syntax](https://docs.python.org/3/library/string.html#format-string-syntax). Esta demonstração usa o formato `latex_inline` que está embutido no pacote 'astropy.units`.  Para ver formas adicionais de formatar quantidades, consulte [Getting Started](http://docs.astropy.org/en/stable/units/#getting-started) nas páginas de documentação do astropy.units.\n",
        "</div>"
      ]
    },
    {
      "cell_type": "code",
      "execution_count": 2,
      "metadata": {
        "id": "yJD8dBdYXNbL",
        "outputId": "3f8f436e-d17e-4315-bcdf-cb743d3e6718",
        "colab": {
          "base_uri": "https://localhost:8080/",
          "height": 299
        }
      },
      "outputs": [
        {
          "output_type": "display_data",
          "data": {
            "image/png": "[encoded data removed]",
            "text/plain": [
              "<Figure size 432x288 with 1 Axes>"
            ]
          },
          "metadata": {
            "needs_background": "light"
          }
        }
      ],
      "source": [
        "bb = BlackBody(5000. * u.Kelvin)\n",
        "\n",
        "nu = np.linspace(1., 3000., 1000) * u.THz\n",
        "bb5000K_nu = bb(nu)\n",
        "plt.plot(nu, bb5000K_nu)\n",
        "plt.xlabel(r'$\\nu$, [{0:latex_inline}]'.format(nu.unit))\n",
        "plt.ylabel(r'$I_{\\nu}$, ' + '[{0:latex_inline}]'.format(bb5000K_nu.unit))\n",
        "plt.title('Planck function in frequency')\n",
        "plt.show()"
      ]
    },
    {
      "cell_type": "markdown",
      "metadata": {
        "id": "pw9HsyXWXNbL"
      },
      "source": [
        "### Usando $LaTeX$ para rotular eixos\n",
        "\n",
        "Aqui, usamos a marcação $LaTeX$ para adicionar rótulos nos eixos com melhor aparência.  Para fazer isso, colocamos o texto de marcação LaTeX em cifrões, dentro de uma string `r'\\$ ... \\$'`. O `r` antes das aspas indica que a string é \"raw\" e as barras invertidas são tratadas literalmente.  Este é o formato sugerido para o texto do rótulo do eixo que inclui marcação. \n",
        "\n",
        " Agora integramos numericamente usando a regra do trapézio.\n"
      ]
    },
    {
      "cell_type": "code",
      "execution_count": 3,
      "metadata": {
        "id": "anjDzqDwXNbM",
        "outputId": "d90bf5d4-3ae8-41d9-d788-e7700b63ce86",
        "colab": {
          "base_uri": "https://localhost:8080/",
          "height": 38
        }
      },
      "outputs": [
        {
          "output_type": "execute_result",
          "data": {
            "text/latex": "$1.1280849 \\times 10^{10} \\; \\mathrm{\\frac{erg}{s\\,sr\\,cm^{2}}}$",
            "text/plain": [
              "<Quantity 1.12808487e+10 erg / (cm2 s sr)>"
            ]
          },
          "metadata": {},
          "execution_count": 3
        }
      ],
      "source": [
        "np.trapz(x=nu, y=bb5000K_nu).to('erg s-1 cm-2 sr-1')"
      ]
    },
    {
      "cell_type": "markdown",
      "metadata": {
        "id": "M9xbbIV6XNbM"
      },
      "source": [
        "Agora podemos fazer algo semelhante, mas para uma grade de comprimento de onda.  Queremos integrar em uma faixa de comprimento de onda equivalente à faixa de frequência que fizemos anteriormente.  Podemos transformar a frequência máxima no comprimento de onda (mínimo) correspondente usando o método `.to() `, com a adição de uma *equivalência*."
      ]
    },
    {
      "cell_type": "code",
      "execution_count": 4,
      "metadata": {
        "id": "dkNoQ4E0XNbN",
        "outputId": "17627d50-cd87-4cfb-d282-95bcdea27e97",
        "colab": {
          "base_uri": "https://localhost:8080/",
          "height": 303
        }
      },
      "outputs": [
        {
          "output_type": "display_data",
          "data": {
            "image/png": "[encoded data removed]",
            "text/plain": [
              "<Figure size 432x288 with 1 Axes>"
            ]
          },
          "metadata": {
            "needs_background": "light"
          }
        }
      ],
      "source": [
        "lam = np.linspace(nu.max().to(u.AA, equivalencies=u.spectral()),\n",
        "                  nu.min().to(u.AA, equivalencies=u.spectral()), 1000)\n",
        "bb_lam = BlackBody(bb.temperature, \n",
        "                   scale=1.0 * u.erg / (u.cm ** 2 * u.AA * u.s * u.sr))\n",
        "bb5000K_lam = bb_lam(lam)\n",
        "plt.plot(lam, bb5000K_lam)\n",
        "plt.xlim([1.0e3, 5.0e4])\n",
        "plt.xlabel(r'$\\lambda$, [{0:latex_inline}]'.format(lam.unit))\n",
        "plt.ylabel(r'$I_{\\lambda}$, ' + '[{0:latex_inline}]'.format(bb5000K_lam.unit))\n",
        "plt.title('Planck function in wavelength')\n",
        "plt.show()"
      ]
    },
    {
      "cell_type": "code",
      "execution_count": 5,
      "metadata": {
        "id": "A4VLHFtHXNbN",
        "outputId": "01a83a99-4944-4d30-968a-0375a0877477",
        "colab": {
          "base_uri": "https://localhost:8080/",
          "height": 38
        }
      },
      "outputs": [
        {
          "output_type": "execute_result",
          "data": {
            "text/latex": "$1.146776 \\times 10^{10} \\; \\mathrm{\\frac{erg}{s\\,sr\\,cm^{2}}}$",
            "text/plain": [
              "<Quantity 1.14677601e+10 erg / (cm2 s sr)>"
            ]
          },
          "metadata": {},
          "execution_count": 5
        }
      ],
      "source": [
        "np.trapz(x=lam, y=bb5000K_lam).to('erg s-1 cm-2 sr-1')"
      ]
    },
    {
      "cell_type": "markdown",
      "metadata": {
        "id": "-BC40k7BXNbN"
      },
      "source": [
        "Observe que isso está dentro de alguns por cento da resposta que obtivemos no espaço de frequência, apesar de nossa amostragem ruim em pequenos comprimentos de onda!\n",
        "\n",
        "Muitas funções `astropy` usam unidades e quantidades diretamente. À medida que você ganha confiança ao trabalhar com eles, considere incorporá-los ao seu fluxo de trabalho regular. Leia mais [aqui](http://docs.astropy.org/en/stable/units/) sobre como usar unidades."
      ]
    },
    {
      "cell_type": "markdown",
      "metadata": {
        "id": "rlwI6oPGXNbO"
      },
      "source": [
        "###Como simular observações reais\n",
        "\n",
        "Desde outono de 2017, o `astropy` não suporta explicitamente a construção de observações sintéticas de modelos como curvas de corpo negro. A [biblioteca synphot](https://synphot.readthedocs.io/en/latest/) permite isso. Você pode usar `synphot` para realizar tarefas como transformar espectros em magnitudes visuais por convolução com uma curva de filtro."
      ]
    },
    {
      "cell_type": "markdown",
      "metadata": {
        "id": "88l25iyEXNbO"
      },
      "source": [
        "## A função de massa inicial estelar (IMF)\n",
        "\n",
        "A função de massa inicial estelar nos diz quantas estrelas de cada massa são formadas. Em particular, as estrelas de baixa massa são muito mais abundantes do que as estrelas de alta massa. Vamos explorar mais a funcionalidade do `astropy` usando esta ideia.\n",
        "\n",
        "As pessoas geralmente pensam no FMI como uma função de densidade de probabilidade de lei de potência. Em outras palavras, se você contar as estrelas que nasceram recentemente de uma nuvem de gás, sua distribuição de massas seguirá o FMI. Vamos escrever uma pequena classe para nos ajudar a acompanhar isso:"
      ]
    },
    {
      "cell_type": "code",
      "execution_count": 6,
      "metadata": {
        "id": "NToG17WYXNbO"
      },
      "outputs": [],
      "source": [
        "class PowerLawPDF(object):\n",
        "    def __init__(self, gamma, B=1.):\n",
        "        self.gamma = gamma\n",
        "        self.B = B\n",
        "    def __call__(self, x):\n",
        "        return x**self.gamma / self.B"
      ]
    },
    {
      "cell_type": "markdown",
      "metadata": {
        "id": "gqNFgJqNXNbP"
      },
      "source": [
        "### O método `__call__` \n",
        "\n",
        "Ao definir o método `__call__`, estamos dizendo ao interpretador Python que uma instância da classe pode ser chamada como uma função. Quando chamada, uma instância desta classe recebe um único argumento, `x`, mas usa outros atributos da instância, como `gamma` e `B`.\n",
        "\n",
        "### Mais sobre as aulas\n",
        "\n",
        "As classes são estruturas de dados mais avançadas, que podem ajudá-lo a acompanhar a funcionalidade em seu código que funciona em conjunto. Você pode aprender mais sobre aulas neste [tutorial](https://www.codecademy.com/ja/courses/learn-python/lessons/introduction-to-classes/exercises/why-use-classes)."
      ]
    },
    {
      "cell_type": "markdown",
      "metadata": {
        "id": "SPGk79FOXNbP"
      },
      "source": [
        "## Integração usando quadratura gaussiana\n",
        "\n",
        "Nesta seção, exploraremos um método de integração numérica que não requer já ter sua grade de amostragem configurada. `scipy.integrate.quad` com referência [aqui](https://docs.scipy.org/doc/scipy-0.19.1/reference/generated/scipy.integrate.quad.html) recebe uma função e um valor menor e limite superior, e nossa classe `PowerLawPDF` cuida disso muito bem.\n",
        "\n",
        "Agora podemos usar nossa nova classe para normalizar nosso IMF dados os limites de massa. Isso equivale a normalizar uma função de densidade de probabilidade. Usaremos a quadratura gaussiana (`quad`) para encontrar a integral. `quad` retorna o valor numérico da integral e sua incerteza. Nós só nos importamos com o valor numérico, então vamos empacotar a incerteza em `_` (uma variável de espaço reservado). Nós imediatamente jogamos a integral em nosso objeto IMF e a usamos para normalizar!\n",
        "\n",
        "Para ler mais sobre *empacotamento e desempacotamento generalizado* em Python, veja a proposta original, [PEP 448](https://www.python.org/dev/peps/pep-0448/), que foi aceita em 2015."
      ]
    },
    {
      "cell_type": "code",
      "execution_count": 7,
      "metadata": {
        "id": "8_PJmxbYXNbP",
        "outputId": "35681e7d-0473-4b2d-dc24-5deba60a4037",
        "colab": {
          "base_uri": "https://localhost:8080/",
          "height": 287
        }
      },
      "outputs": [
        {
          "output_type": "display_data",
          "data": {
            "image/png": "[encoded data removed]",
            "text/plain": [
              "<Figure size 432x288 with 1 Axes>"
            ]
          },
          "metadata": {
            "needs_background": "light"
          }
        }
      ],
      "source": [
        "salpeter = PowerLawPDF(gamma=-2.35)\n",
        "salpeter.B, _ = integrate.quad(salpeter, a=0.01, b=100.)\n",
        "\n",
        "m_grid = np.logspace(-2., 2., 100)\n",
        "plt.loglog(m_grid, salpeter(m_grid))\n",
        "plt.xlabel(r'Stellar mass [$M_{\\odot}$]')\n",
        "plt.ylabel('Probability density')\n",
        "plt.show()"
      ]
    },
    {
      "cell_type": "markdown",
      "metadata": {
        "id": "RotHN5xIXNbP"
      },
      "source": [
        "### Quantas estrelas M existem a mais do que estrelas O?\n",
        "\n",
        "Vamos comparar o número de estrelas anãs M (massa inferior a 60% solar) criadas pelo FMI, com o número de estrelas O (massa superior a 15 vezes solar)."
      ]
    },
    {
      "cell_type": "code",
      "execution_count": 8,
      "metadata": {
        "id": "OCmyGKTSXNbQ",
        "outputId": "7c90dc41-8192-471f-b9fd-f8ae017acc27",
        "colab": {
          "base_uri": "https://localhost:8080/"
        }
      },
      "outputs": [
        {
          "output_type": "stream",
          "name": "stdout",
          "text": [
            "20936.017868337385\n"
          ]
        }
      ],
      "source": [
        "n_m, _ = integrate.quad(salpeter, a=.01, b=.6)\n",
        "n_o, _ = integrate.quad(salpeter, a=15., b=100.)\n",
        "print(n_m / n_o)"
      ]
    },
    {
      "cell_type": "markdown",
      "metadata": {
        "id": "_yOghSWOXNbQ"
      },
      "source": [
        "Existem quase 21.000 estrelas de baixa massa nascidas do que estrelas de alta massa!"
      ]
    },
    {
      "cell_type": "markdown",
      "metadata": {
        "id": "rdzV9nGgXNbQ"
      },
      "source": [
        "### Onde está toda a massa?\n",
        "\n",
        "Agora vamos calcular as massas totais relativas para todas as estrelas O e todas as estrelas M nascidas. Para fazer isso, pondere o Salpeter IMF em massa (ou seja, adicione um fator extra de massa à integral). Para fazer isso, definimos uma nova função que toma a velha lei de potência IMF como um de seus argumentos. Como esse argumento não é alterado em toda a integral, ele é passado para a tupla `args` dentro de `quad`. É importante que haja apenas *um* argumento que mude sobre a integral, e que seja o *primeiro* argumento que a função que está sendo integrada aceita.\n",
        "\n",
        "Matematicamente, a integral para as estrelas M é\n",
        "\n",
        "$$ m^M = \\int_{.01 \\, M_{\\odot}}^{.6 \\, M_{\\odot}} m \\, {\\rm IMF}(m) \\, dm $$\n",
        "\n",
        "e equivale a ponderar a função densidade de probabilidade (o FMI) em massa. De maneira mais geral, você encontra o valor de alguma propriedade $\\rho$ que depende de $m$ calculando\n",
        "\n",
        "$$ \\rho(m)^M = \\int_{.01 \\, M_{\\odot}}^{.6 \\, M_{\\odot}} \\rho(m) \\, {\\rm IMF}(m) \\, dm $$"
      ]
    },
    {
      "cell_type": "code",
      "execution_count": 9,
      "metadata": {
        "id": "QgrkLAWxXNbQ",
        "outputId": "40a8267a-0e6c-4edc-886c-17f2240b17e0",
        "colab": {
          "base_uri": "https://localhost:8080/"
        }
      },
      "outputs": [
        {
          "output_type": "execute_result",
          "data": {
            "text/plain": [
              "20.29197629920483"
            ]
          },
          "metadata": {},
          "execution_count": 9
        }
      ],
      "source": [
        "def IMF_m(m, imf):\n",
        "    return imf(m) * m\n",
        "\n",
        "m_m, _ = integrate.quad(IMF_m, a=.01, b=.6, args=(salpeter, ))\n",
        "m_o, _ = integrate.quad(IMF_m, a=15., b=100., args=(salpeter, ))\n",
        "\n",
        "m_m / m_o"
      ]
    },
    {
      "cell_type": "markdown",
      "metadata": {
        "id": "AeEYuH2WXNbR"
      },
      "source": [
        "\n",
        "\n",
        "Assim, cerca de 20 vezes mais massa está ligada em estrelas M do que em estrelas O."
      ]
    },
    {
      "cell_type": "markdown",
      "metadata": {
        "id": "36L_Y2BPXNbR"
      },
      "source": [
        "### Extras\n",
        "\n",
        "* Agora compare a luminosidade total de todas as estrelas O com a luminosidade total de todas as estrelas M. Isso requer uma relação massa-luminosidade, como esta que você usará como $\\rho(m)$:\n",
        "\n",
        "$$\n",
        " \\frac{L}{L_{\\odot}} (M) =\n",
        "  \\begin{cases} \n",
        "      \\hfill .23 \\left( \\frac{M}{M_{\\odot}} \\right)^{2.3} \\hfill , \\hfill & .1 < \\frac{M}{M_{\\odot}} < .43 \\\\\n",
        "      \\hfill \\left( \\frac{M}{M_{\\odot}} \\right)^{4} \\hfill , \\hfill & .43 < \\frac{M}{M_{\\odot}} < 2 \\\\\n",
        "      \\hfill 1.5 \\left( \\frac{M}{M_{\\odot}} \\right)^{3.5} \\hfill , \\hfill & 2 < \\frac{M}{M_{\\odot}} < 20 \\\\\n",
        "      \\hfill 3200 \\left( \\frac{M}{M_{\\odot}} \\right) \\hfill , \\hfill & 20 < \\frac{M}{M_{\\odot}} < 100 \\\\\n",
        "  \\end{cases},\n",
        "$$\n",
        "\n",
        "* Pense em quais estrelas estão produzindo a maior parte da luz e quais estrelas têm a maior parte da massa. Como isso pode resultar em dificuldade em inferir massas estelares a partir da luz que elas produzem? Se estiver interessado em saber mais, consulte este [artigo de revisão](https://ned.ipac.caltech.edu/level5/Sept14/Courteau/Courteau_contents.html)."
      ]
    },
    {
      "cell_type": "markdown",
      "metadata": {
        "id": "vjo7iJ5IXNbR"
      },
      "source": [
        "## Problema desafiador\n",
        "\n",
        "* No momento, não estamos preocupados com os limites da lei de potência, mas o FMI deve cair para zero de probabilidade em massas abaixo de 0,01 massas solares e acima de 100 massas solares. Modifique `PowerLawPDF` de uma forma que permita entradas `float` e `numpy.ndarray`.\n",
        "* Modifique a classe `PowerLawPDF` para usar explicitamente as construções `units` do `astropy`.\n",
        "* Deduza uma relação entre a taxa de formação de estrelas recente e a luminosidade de $H\\alpha$. Em outras palavras, encontre um valor de $C$ para a função\n",
        "\n",
        "$${\\rm SFR \\, [\\frac{M_{\\odot}}{yr}]} = {\\rm C \\, L_{H\\alpha} \\, [\\frac{erg}{s}]} \\, .$$\n",
        "\n",
        "* Como isso depende da inclinação e dos pontos finais do FMI?\n",
        "* Dê uma olhada no Apêndice B de [Hunter & Elmegreen 2004, AJ, 128, 2170](http://adsabs.harvard.edu/cgi-bin/bib_query?arXiv:astro-ph/0408229)\n",
        "* Que efeito a alteração do índice da lei de potência ou do limite de massa superior do FMI tem sobre o valor de $C$?\n",
        "* Preveja o efeito sobre o valor de $C$ de usar uma forma diferente do FMI, como Kroupa ou Chabrier (ambos são mais leves na extremidade de baixa massa).\n",
        "* Se você ainda não está cansado de IMFs, tente definir uma nova classe que implemente uma IMF de lei de potência quebrada (Kroupa) ou log-parabola (Chabrier). Faça os mesmos cálculos acima."
      ]
    },
    {
      "cell_type": "code",
      "execution_count": null,
      "metadata": {
        "id": "Sbov-qwiXNbR"
      },
      "outputs": [],
      "source": [
        ""
      ]
    }
  ],
  "metadata": {
    "kernelspec": {
      "display_name": "Python 3",
      "language": "python",
      "name": "python3"
    },
    "language_info": {
      "codemirror_mode": {
        "name": "ipython"
      },
      "file_extension": ".py",
      "mimetype": "text/x-python",
      "name": "python",
      "nbconvert_exporter": "python"
    },
    "colab": {
      "name": "units-and-integration.ipynb",
      "provenance": []
    }
  },
  "nbformat": 4,
  "nbformat_minor": 0
}